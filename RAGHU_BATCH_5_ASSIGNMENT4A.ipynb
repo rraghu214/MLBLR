{
 "cells": [
  {
   "cell_type": "markdown",
   "metadata": {
    "id": "aNyZv-Ec52ot",
    "colab_type": "text"
   },
   "source": [
    "# **Import Libraries and modules**"
   ]
  },
  {
   "cell_type": "code",
   "execution_count": 1,
   "metadata": {
    "id": "3m3w1Cw49Zkt",
    "colab_type": "code",
    "colab": {
     "autoexec": {
      "startup": false,
      "wait_interval": 0.0
     },
     "base_uri": "https://localhost:8080/",
     "height": 34.0
    },
    "outputId": "d166ce72-5ae2-43b3-b027-eb202417c37c",
    "executionInfo": {
     "status": "ok",
     "timestamp": 1.526732754267E12,
     "user_tz": -330.0,
     "elapsed": 10150.0,
     "user": {
      "displayName": "Raghu R",
      "photoUrl": "//lh4.googleusercontent.com/-fPOYe6wYLts/AAAAAAAAAAI/AAAAAAAAPa4/zd4au1V2QWY/s50-c-k-no/photo.jpg",
      "userId": "102095572541157594495"
     }
    }
   },
   "outputs": [
    {
     "name": "stderr",
     "output_type": "stream",
     "text": [
      "Using TensorFlow backend.\n"
     ]
    }
   ],
   "source": [
    "# https://keras.io/\n",
    "!pip install -q keras\n",
    "import keras"
   ]
  },
  {
   "cell_type": "code",
   "execution_count": 0,
   "metadata": {
    "id": "Eso6UHE080D4",
    "colab_type": "code",
    "colab": {
     "autoexec": {
      "startup": false,
      "wait_interval": 0.0
     }
    }
   },
   "outputs": [],
   "source": [
    "import numpy as np\n",
    "\n",
    "from keras.models import Sequential\n",
    "from keras.layers import Dense, Dropout, Activation, Flatten, Add\n",
    "from keras.layers import Convolution2D, MaxPooling2D\n",
    "from keras.utils import np_utils\n",
    "\n",
    "from keras.datasets import mnist"
   ]
  },
  {
   "cell_type": "markdown",
   "metadata": {
    "id": "zByEi95J86RD",
    "colab_type": "text"
   },
   "source": [
    "### Load pre-shuffled MNIST data into train and test sets"
   ]
  },
  {
   "cell_type": "code",
   "execution_count": 3,
   "metadata": {
    "id": "7eRM0QWN83PV",
    "colab_type": "code",
    "colab": {
     "autoexec": {
      "startup": false,
      "wait_interval": 0.0
     },
     "base_uri": "https://localhost:8080/",
     "height": 50.0
    },
    "outputId": "0b7ddd5b-9e66-40d4-ce54-d8544b640b8d",
    "executionInfo": {
     "status": "ok",
     "timestamp": 1.526732764868E12,
     "user_tz": -330.0,
     "elapsed": 1565.0,
     "user": {
      "displayName": "Raghu R",
      "photoUrl": "//lh4.googleusercontent.com/-fPOYe6wYLts/AAAAAAAAAAI/AAAAAAAAPa4/zd4au1V2QWY/s50-c-k-no/photo.jpg",
      "userId": "102095572541157594495"
     }
    }
   },
   "outputs": [
    {
     "name": "stdout",
     "output_type": "stream",
     "text": [
      "Downloading data from https://s3.amazonaws.com/img-datasets/mnist.npz\n",
      "11493376/11490434 [==============================] - 1s 0us/step\n"
     ]
    }
   ],
   "source": [
    "(X_train, y_train), (X_test, y_test) = mnist.load_data()"
   ]
  },
  {
   "cell_type": "code",
   "execution_count": 4,
   "metadata": {
    "id": "4a4Be72j8-ZC",
    "colab_type": "code",
    "colab": {
     "autoexec": {
      "startup": false,
      "wait_interval": 0.0
     },
     "base_uri": "https://localhost:8080/",
     "height": 298.0
    },
    "outputId": "368420ef-06cc-4fc8-81bf-d1f77b568ffc",
    "executionInfo": {
     "status": "ok",
     "timestamp": 1.526732768168E12,
     "user_tz": -330.0,
     "elapsed": 1566.0,
     "user": {
      "displayName": "Raghu R",
      "photoUrl": "//lh4.googleusercontent.com/-fPOYe6wYLts/AAAAAAAAAAI/AAAAAAAAPa4/zd4au1V2QWY/s50-c-k-no/photo.jpg",
      "userId": "102095572541157594495"
     }
    }
   },
   "outputs": [
    {
     "name": "stdout",
     "output_type": "stream",
     "text": [
      "(60000, 28, 28)\n"
     ]
    },
    {
     "data": {
      "text/plain": [
       "<matplotlib.image.AxesImage at 0x7ff862cb5550>"
      ]
     },
     "execution_count": 4,
     "metadata": {
      "tags": []
     },
     "output_type": "execute_result"
    },
    {
     "data": {
      "image/png": "[encoded data removed]",
      "text/plain": [
       "<matplotlib.figure.Figure at 0x7ff8a0871ba8>"
      ]
     },
     "metadata": {
      "tags": []
     },
     "output_type": "display_data"
    }
   ],
   "source": [
    "print (X_train.shape)\n",
    "from matplotlib import pyplot as plt\n",
    "%matplotlib inline\n",
    "plt.imshow(X_train[0])"
   ]
  },
  {
   "cell_type": "code",
   "execution_count": 0,
   "metadata": {
    "id": "dkmprriw9AnZ",
    "colab_type": "code",
    "colab": {
     "autoexec": {
      "startup": false,
      "wait_interval": 0.0
     }
    }
   },
   "outputs": [],
   "source": [
    "X_train = X_train.reshape(X_train.shape[0], 28, 28,1)\n",
    "X_test = X_test.reshape(X_test.shape[0], 28, 28,1)"
   ]
  },
  {
   "cell_type": "code",
   "execution_count": 0,
   "metadata": {
    "id": "X2m4YS4E9CRh",
    "colab_type": "code",
    "colab": {
     "autoexec": {
      "startup": false,
      "wait_interval": 0.0
     }
    }
   },
   "outputs": [],
   "source": [
    "X_train = X_train.astype('float32')\n",
    "X_test = X_test.astype('float32')\n",
    "X_train /= 255\n",
    "X_test /= 255"
   ]
  },
  {
   "cell_type": "code",
   "execution_count": 7,
   "metadata": {
    "id": "0Mn0vAYD9DvB",
    "colab_type": "code",
    "colab": {
     "autoexec": {
      "startup": false,
      "wait_interval": 0.0
     },
     "base_uri": "https://localhost:8080/",
     "height": 34.0
    },
    "outputId": "02ba0844-fe4d-4738-c2f3-f0f2f7d9f864",
    "executionInfo": {
     "status": "ok",
     "timestamp": 1.526732777456E12,
     "user_tz": -330.0,
     "elapsed": 1041.0,
     "user": {
      "displayName": "Raghu R",
      "photoUrl": "//lh4.googleusercontent.com/-fPOYe6wYLts/AAAAAAAAAAI/AAAAAAAAPa4/zd4au1V2QWY/s50-c-k-no/photo.jpg",
      "userId": "102095572541157594495"
     }
    }
   },
   "outputs": [
    {
     "data": {
      "text/plain": [
       "array([5, 0, 4, 1, 9, 2, 1, 3, 1, 4], dtype=uint8)"
      ]
     },
     "execution_count": 7,
     "metadata": {
      "tags": []
     },
     "output_type": "execute_result"
    }
   ],
   "source": [
    "y_train[:10]"
   ]
  },
  {
   "cell_type": "code",
   "execution_count": 0,
   "metadata": {
    "id": "ZG8JiXR39FHC",
    "colab_type": "code",
    "colab": {
     "autoexec": {
      "startup": false,
      "wait_interval": 0.0
     }
    }
   },
   "outputs": [],
   "source": [
    "# Convert 1-dimensional class arrays to 10-dimensional class matrices\n",
    "Y_train = np_utils.to_categorical(y_train, 10)\n",
    "Y_test = np_utils.to_categorical(y_test, 10)"
   ]
  },
  {
   "cell_type": "code",
   "execution_count": 9,
   "metadata": {
    "id": "fYlFRvKS9HMB",
    "colab_type": "code",
    "colab": {
     "autoexec": {
      "startup": false,
      "wait_interval": 0.0
     },
     "base_uri": "https://localhost:8080/",
     "height": 34.0
    },
    "outputId": "6fb20c69-3aa6-464d-f420-56dd4070ef73",
    "executionInfo": {
     "status": "ok",
     "timestamp": 1.526732783933E12,
     "user_tz": -330.0,
     "elapsed": 869.0,
     "user": {
      "displayName": "Raghu R",
      "photoUrl": "//lh4.googleusercontent.com/-fPOYe6wYLts/AAAAAAAAAAI/AAAAAAAAPa4/zd4au1V2QWY/s50-c-k-no/photo.jpg",
      "userId": "102095572541157594495"
     }
    }
   },
   "outputs": [
    {
     "data": {
      "text/plain": [
       "array([5, 0, 4, 1, 9, 2, 1, 3, 1, 4], dtype=uint8)"
      ]
     },
     "execution_count": 9,
     "metadata": {
      "tags": []
     },
     "output_type": "execute_result"
    }
   ],
   "source": [
    "y_train[:10]\n"
   ]
  },
  {
   "cell_type": "code",
   "execution_count": 10,
   "metadata": {
    "id": "osKqT73Q9JJB",
    "colab_type": "code",
    "colab": {
     "autoexec": {
      "startup": false,
      "wait_interval": 0.0
     },
     "base_uri": "https://localhost:8080/",
     "height": 104.0
    },
    "outputId": "5faf8673-6f0e-42b9-9b53-f2570609a131",
    "executionInfo": {
     "status": "ok",
     "timestamp": 1.526732787469E12,
     "user_tz": -330.0,
     "elapsed": 845.0,
     "user": {
      "displayName": "Raghu R",
      "photoUrl": "//lh4.googleusercontent.com/-fPOYe6wYLts/AAAAAAAAAAI/AAAAAAAAPa4/zd4au1V2QWY/s50-c-k-no/photo.jpg",
      "userId": "102095572541157594495"
     }
    }
   },
   "outputs": [
    {
     "name": "stderr",
     "output_type": "stream",
     "text": [
      "/usr/local/lib/python3.6/dist-packages/ipykernel_launcher.py:12: UserWarning: Update your `Conv2D` call to the Keras 2 API: `Conv2D(32, (3, 3), activation=\"relu\", input_shape=(28, 28, 1...)`\n",
      "  if sys.path[0] == '':\n",
      "/usr/local/lib/python3.6/dist-packages/ipykernel_launcher.py:13: UserWarning: Update your `Conv2D` call to the Keras 2 API: `Conv2D(32, (3, 3), activation=\"relu\")`\n",
      "  del sys.path[0]\n"
     ]
    }
   ],
   "source": [
    "from keras.layers import Activation\n",
    "model = Sequential()\n",
    "\n",
    " \n",
    "#model.add(Convolution2D(32, 3, 3, activation='relu', input_shape=(28,28,1)))\n",
    "#model.add(Convolution2D(10, 1, activation='relu'))\n",
    "#model.add(Convolution2D(10, 26))\n",
    "#model.add(Flatten())\n",
    "#model.add(Activation('softmax'))\n",
    "\n",
    "\n",
    "model.add(Convolution2D(32, 3, 3, activation='relu', input_shape=(28, 28, 1)))\n",
    "model.add(Convolution2D(32, 3, 3, activation='relu'))\n",
    "\n",
    "model.add(MaxPooling2D(pool_size=(2,2)))\n",
    "model.add(Dropout(0.25))\n",
    "\n",
    "model.add(Flatten())\n",
    "model.add(Dense(10, activation = 'softmax'))"
   ]
  },
  {
   "cell_type": "code",
   "execution_count": 11,
   "metadata": {
    "id": "TzdAYg1k9K7Z",
    "colab_type": "code",
    "colab": {
     "autoexec": {
      "startup": false,
      "wait_interval": 0.0
     },
     "base_uri": "https://localhost:8080/",
     "height": 336.0
    },
    "outputId": "badcec0c-c288-406c-86f1-a9bcc7710b47",
    "executionInfo": {
     "status": "ok",
     "timestamp": 1.526732802015E12,
     "user_tz": -330.0,
     "elapsed": 880.0,
     "user": {
      "displayName": "Raghu R",
      "photoUrl": "//lh4.googleusercontent.com/-fPOYe6wYLts/AAAAAAAAAAI/AAAAAAAAPa4/zd4au1V2QWY/s50-c-k-no/photo.jpg",
      "userId": "102095572541157594495"
     }
    }
   },
   "outputs": [
    {
     "name": "stdout",
     "output_type": "stream",
     "text": [
      "_________________________________________________________________\n",
      "Layer (type)                 Output Shape              Param #   \n",
      "=================================================================\n",
      "conv2d_1 (Conv2D)            (None, 26, 26, 32)        320       \n",
      "_________________________________________________________________\n",
      "conv2d_2 (Conv2D)            (None, 24, 24, 32)        9248      \n",
      "_________________________________________________________________\n",
      "max_pooling2d_1 (MaxPooling2 (None, 12, 12, 32)        0         \n",
      "_________________________________________________________________\n",
      "dropout_1 (Dropout)          (None, 12, 12, 32)        0         \n",
      "_________________________________________________________________\n",
      "flatten_1 (Flatten)          (None, 4608)              0         \n",
      "_________________________________________________________________\n",
      "dense_1 (Dense)              (None, 10)                46090     \n",
      "=================================================================\n",
      "Total params: 55,658\n",
      "Trainable params: 55,658\n",
      "Non-trainable params: 0\n",
      "_________________________________________________________________\n"
     ]
    }
   ],
   "source": [
    "model.summary()"
   ]
  },
  {
   "cell_type": "code",
   "execution_count": 0,
   "metadata": {
    "id": "Zp6SuGrL9M3h",
    "colab_type": "code",
    "colab": {
     "autoexec": {
      "startup": false,
      "wait_interval": 0.0
     }
    }
   },
   "outputs": [],
   "source": [
    "model.compile(loss='categorical_crossentropy',\n",
    "             optimizer='adam',\n",
    "             metrics=['accuracy'])"
   ]
  },
  {
   "cell_type": "code",
   "execution_count": 13,
   "metadata": {
    "id": "4xWoKhPY9Of5",
    "colab_type": "code",
    "colab": {
     "autoexec": {
      "startup": false,
      "wait_interval": 0.0
     },
     "base_uri": "https://localhost:8080/",
     "height": 403.0
    },
    "outputId": "31906d5b-073d-4a2c-e41b-3ace06963453",
    "executionInfo": {
     "status": "ok",
     "timestamp": 1.52673303199E12,
     "user_tz": -330.0,
     "elapsed": 218720.0,
     "user": {
      "displayName": "Raghu R",
      "photoUrl": "//lh4.googleusercontent.com/-fPOYe6wYLts/AAAAAAAAAAI/AAAAAAAAPa4/zd4au1V2QWY/s50-c-k-no/photo.jpg",
      "userId": "102095572541157594495"
     }
    }
   },
   "outputs": [
    {
     "name": "stderr",
     "output_type": "stream",
     "text": [
      "/usr/local/lib/python3.6/dist-packages/keras/models.py:981: UserWarning: The `nb_epoch` argument in `fit` has been renamed `epochs`.\n",
      "  warnings.warn('The `nb_epoch` argument in `fit` '\n"
     ]
    },
    {
     "name": "stdout",
     "output_type": "stream",
     "text": [
      "Epoch 1/10\n",
      "60000/60000 [==============================] - 24s 396us/step - loss: 0.1586 - acc: 0.9528\n",
      "Epoch 2/10\n",
      "49568/60000 [=======================>......] - ETA: 3s - loss: 0.0645 - acc: 0.9806"
     ]
    },
    {
     "name": "stdout",
     "output_type": "stream",
     "text": [
      "60000/60000 [==============================] - 22s 362us/step - loss: 0.0632 - acc: 0.9808\n",
      "Epoch 3/10\n",
      "60000/60000 [==============================] - 22s 360us/step - loss: 0.0466 - acc: 0.9861\n",
      "Epoch 4/10\n",
      "12096/60000 [=====>........................] - ETA: 17s - loss: 0.0351 - acc: 0.9900"
     ]
    },
    {
     "name": "stdout",
     "output_type": "stream",
     "text": [
      "60000/60000 [==============================] - 22s 358us/step - loss: 0.0389 - acc: 0.9878\n",
      "Epoch 5/10\n",
      "60000/60000 [==============================] - 21s 358us/step - loss: 0.0320 - acc: 0.9898\n",
      "Epoch 6/10\n",
      "  928/60000 [..............................] - ETA: 21s - loss: 0.0174 - acc: 0.9935"
     ]
    },
    {
     "name": "stdout",
     "output_type": "stream",
     "text": [
      "60000/60000 [==============================] - 21s 357us/step - loss: 0.0276 - acc: 0.9911\n",
      "Epoch 7/10\n",
      "57312/60000 [===========================>..] - ETA: 0s - loss: 0.0237 - acc: 0.9920"
     ]
    },
    {
     "name": "stdout",
     "output_type": "stream",
     "text": [
      "60000/60000 [==============================] - 21s 358us/step - loss: 0.0238 - acc: 0.9919\n",
      "Epoch 8/10\n",
      "60000/60000 [==============================] - 22s 361us/step - loss: 0.0223 - acc: 0.9930\n",
      "Epoch 9/10\n",
      "14304/60000 [======>.......................] - ETA: 16s - loss: 0.0174 - acc: 0.9945"
     ]
    },
    {
     "name": "stdout",
     "output_type": "stream",
     "text": [
      "60000/60000 [==============================] - 22s 358us/step - loss: 0.0196 - acc: 0.9935\n",
      "Epoch 10/10\n",
      "60000/60000 [==============================] - 21s 358us/step - loss: 0.0175 - acc: 0.9940\n"
     ]
    },
    {
     "data": {
      "text/plain": [
       "<keras.callbacks.History at 0x7ff863158710>"
      ]
     },
     "execution_count": 13,
     "metadata": {
      "tags": []
     },
     "output_type": "execute_result"
    }
   ],
   "source": [
    "model.fit(X_train, Y_train, batch_size=32, nb_epoch=10, verbose=1)"
   ]
  },
  {
   "cell_type": "code",
   "execution_count": 0,
   "metadata": {
    "id": "AtsH-lLk-eLb",
    "colab_type": "code",
    "colab": {
     "autoexec": {
      "startup": false,
      "wait_interval": 0.0
     }
    }
   },
   "outputs": [],
   "source": [
    "score = model.evaluate(X_test, Y_test, verbose=0)"
   ]
  },
  {
   "cell_type": "code",
   "execution_count": 15,
   "metadata": {
    "id": "mkX8JMv79q9r",
    "colab_type": "code",
    "colab": {
     "autoexec": {
      "startup": false,
      "wait_interval": 0.0
     },
     "base_uri": "https://localhost:8080/",
     "height": 34.0
    },
    "outputId": "15d95d74-418c-482e-fa19-2eff7e4b4d43",
    "executionInfo": {
     "status": "ok",
     "timestamp": 1.526733040694E12,
     "user_tz": -330.0,
     "elapsed": 814.0,
     "user": {
      "displayName": "Raghu R",
      "photoUrl": "//lh4.googleusercontent.com/-fPOYe6wYLts/AAAAAAAAAAI/AAAAAAAAPa4/zd4au1V2QWY/s50-c-k-no/photo.jpg",
      "userId": "102095572541157594495"
     }
    }
   },
   "outputs": [
    {
     "name": "stdout",
     "output_type": "stream",
     "text": [
      "[0.03696008974986034, 0.9903]\n"
     ]
    }
   ],
   "source": [
    "print(score)"
   ]
  },
  {
   "cell_type": "code",
   "execution_count": 0,
   "metadata": {
    "id": "OCWoJkwE9suh",
    "colab_type": "code",
    "colab": {
     "autoexec": {
      "startup": false,
      "wait_interval": 0.0
     }
    }
   },
   "outputs": [],
   "source": [
    "y_pred = model.predict(X_test)"
   ]
  },
  {
   "cell_type": "code",
   "execution_count": 17,
   "metadata": {
    "id": "Ym7iCFBm9uBs",
    "colab_type": "code",
    "colab": {
     "autoexec": {
      "startup": false,
      "wait_interval": 0.0
     },
     "base_uri": "https://localhost:8080/",
     "height": 336.0
    },
    "outputId": "acd08204-88cb-4aa1-d070-5205b4a8ab36",
    "executionInfo": {
     "status": "ok",
     "timestamp": 1.526733068732E12,
     "user_tz": -330.0,
     "elapsed": 894.0,
     "user": {
      "displayName": "Raghu R",
      "photoUrl": "//lh4.googleusercontent.com/-fPOYe6wYLts/AAAAAAAAAAI/AAAAAAAAPa4/zd4au1V2QWY/s50-c-k-no/photo.jpg",
      "userId": "102095572541157594495"
     }
    }
   },
   "outputs": [
    {
     "name": "stdout",
     "output_type": "stream",
     "text": [
      "[[9.3583317e-15 1.2453511e-15 7.9595532e-12 7.1728272e-09 1.0719244e-20\n",
      "  1.2110034e-13 7.8936775e-24 1.0000000e+00 1.2283957e-12 7.4410506e-10]\n",
      " [1.2911679e-10 1.2901015e-07 9.9999988e-01 1.6184680e-14 3.5359895e-14\n",
      "  5.0267806e-16 1.2621995e-09 2.4385126e-14 1.1932692e-11 1.7187951e-12]\n",
      " [3.8153459e-08 9.9993932e-01 3.0459116e-06 4.0329301e-08 2.6059311e-05\n",
      "  1.4787067e-06 6.3964922e-07 1.1487742e-05 1.7833725e-05 9.9963060e-08]\n",
      " [9.9999940e-01 1.9592196e-14 2.5411842e-07 2.2930573e-09 2.6487092e-12\n",
      "  4.9068422e-08 2.0725710e-07 8.1001977e-10 2.0174623e-08 7.5836631e-08]\n",
      " [3.0233452e-12 3.8936312e-14 1.3456956e-10 1.3982327e-13 9.9999917e-01\n",
      "  1.2108759e-12 7.5294491e-13 7.4600694e-11 8.5415869e-10 8.0493140e-07]\n",
      " [1.8508338e-08 9.9939144e-01 9.8248415e-07 7.8610567e-09 8.7478256e-05\n",
      "  1.4134613e-07 1.2481399e-08 4.3487531e-04 8.4320265e-05 7.1494145e-07]\n",
      " [1.3276985e-15 1.9690914e-11 8.8884820e-09 9.5019966e-13 9.8842490e-01\n",
      "  5.6809569e-07 8.1372253e-14 9.5438693e-08 1.1490067e-02 8.4324944e-05]\n",
      " [1.4700756e-19 1.2233225e-13 3.4754100e-09 3.6976814e-11 1.2443543e-05\n",
      "  1.0712737e-08 5.9273640e-16 3.7603344e-11 5.6507888e-06 9.9998188e-01]\n",
      " [8.5284178e-08 4.8215795e-18 2.9646258e-10 9.7889257e-12 4.8657989e-09\n",
      "  9.6816361e-01 2.3341933e-02 5.4787311e-13 8.4941862e-03 1.9300823e-07]]\n",
      "[7 2 1 0 4 1 4 9 5]\n"
     ]
    }
   ],
   "source": [
    "print(y_pred[:9])\n",
    "print(y_test[:9])"
   ]
  },
  {
   "cell_type": "code",
   "execution_count": 0,
   "metadata": {
    "id": "CT--y98_dr2T",
    "colab_type": "code",
    "colab": {
     "autoexec": {
      "startup": false,
      "wait_interval": 0.0
     }
    }
   },
   "outputs": [],
   "source": [
    "layer_dict = dict([(layer.name, layer) for layer in model.layers])"
   ]
  },
  {
   "cell_type": "code",
   "execution_count": 19,
   "metadata": {
    "id": "2GY4Upv4dsUR",
    "colab_type": "code",
    "colab": {
     "autoexec": {
      "startup": false,
      "wait_interval": 0.0
     },
     "base_uri": "https://localhost:8080/",
     "height": 839.0
    },
    "outputId": "1623d177-7e7e-46c9-f2ff-2e98726df568",
    "executionInfo": {
     "status": "ok",
     "timestamp": 1.526733140481E12,
     "user_tz": -330.0,
     "elapsed": 9156.0,
     "user": {
      "displayName": "Raghu R",
      "photoUrl": "//lh4.googleusercontent.com/-fPOYe6wYLts/AAAAAAAAAAI/AAAAAAAAPa4/zd4au1V2QWY/s50-c-k-no/photo.jpg",
      "userId": "102095572541157594495"
     }
    }
   },
   "outputs": [
    {
     "data": {
      "image/png": "[encoded data removed]",
      "text/plain": [
       "<matplotlib.figure.Figure at 0x7ff8606babe0>"
      ]
     },
     "metadata": {
      "tags": []
     },
     "output_type": "display_data"
    }
   ],
   "source": [
    "import numpy as np\n",
    "from matplotlib import pyplot as plt\n",
    "from keras import backend as K\n",
    "%matplotlib inline\n",
    "# util function to convert a tensor into a valid image\n",
    "def deprocess_image(x):\n",
    "    # normalize tensor: center on 0., ensure std is 0.1\n",
    "    x -= x.mean()\n",
    "    x /= (x.std() + 1e-5)\n",
    "    x *= 0.1\n",
    "\n",
    "    # clip to [0, 1]\n",
    "    x += 0.5\n",
    "    x = np.clip(x, 0, 1)\n",
    "\n",
    "    # convert to RGB array\n",
    "    x *= 255\n",
    "    #x = x.transpose((1, 2, 0))\n",
    "    x = np.clip(x, 0, 255).astype('uint8')\n",
    "    return x\n",
    "\n",
    "def vis_img_in_filter(img = np.array(X_train[2]).reshape((1, 28, 28, 1)).astype(np.float64), \n",
    "                      layer_name = 'conv2d_2'):\n",
    "    layer_output = layer_dict[layer_name].output\n",
    "    img_ascs = list()\n",
    "    for filter_index in range(layer_output.shape[3]):\n",
    "        # build a loss function that maximizes the activation\n",
    "        # of the nth filter of the layer considered\n",
    "        loss = K.mean(layer_output[:, :, :, filter_index])\n",
    "\n",
    "        # compute the gradient of the input picture wrt this loss\n",
    "        grads = K.gradients(loss, model.input)[0]\n",
    "\n",
    "        # normalization trick: we normalize the gradient\n",
    "        grads /= (K.sqrt(K.mean(K.square(grads))) + 1e-5)\n",
    "\n",
    "        # this function returns the loss and grads given the input picture\n",
    "        iterate = K.function([model.input], [loss, grads])\n",
    "\n",
    "        # step size for gradient ascent\n",
    "        step = 5.\n",
    "\n",
    "        img_asc = np.array(img)\n",
    "        # run gradient ascent for 20 steps\n",
    "        for i in range(20):\n",
    "            loss_value, grads_value = iterate([img_asc])\n",
    "            img_asc += grads_value * step\n",
    "\n",
    "        img_asc = img_asc[0]\n",
    "        img_ascs.append(deprocess_image(img_asc).reshape((28, 28)))\n",
    "        \n",
    "    if layer_output.shape[3] >= 35:\n",
    "        plot_x, plot_y = 6, 6\n",
    "    elif layer_output.shape[3] >= 23:\n",
    "        plot_x, plot_y = 4, 6\n",
    "    elif layer_output.shape[3] >= 11:\n",
    "        plot_x, plot_y = 2, 6\n",
    "    else:\n",
    "        plot_x, plot_y = 1, 2\n",
    "    fig, ax = plt.subplots(plot_x, plot_y, figsize = (12, 12))\n",
    "    ax[0, 0].imshow(img.reshape((28, 28)), cmap = 'gray')\n",
    "    ax[0, 0].set_title('Input image')\n",
    "    fig.suptitle('Input image and %s filters' % (layer_name,))\n",
    "    fig.tight_layout(pad = 0.3, rect = [0, 0, 0.9, 0.9])\n",
    "    for (x, y) in [(i, j) for i in range(plot_x) for j in range(plot_y)]:\n",
    "        if x == 0 and y == 0:\n",
    "            continue\n",
    "        ax[x, y].imshow(img_ascs[x * plot_y + y - 1], cmap = 'gray')\n",
    "        ax[x, y].set_title('filter %d' % (x * plot_y + y - 1))\n",
    "\n",
    "vis_img_in_filter()"
   ]
  },
  {
   "cell_type": "code",
   "execution_count": 0,
   "metadata": {
    "id": "9tvptcn8dxvp",
    "colab_type": "code",
    "colab": {
     "autoexec": {
      "startup": false,
      "wait_interval": 0.0
     }
    }
   },
   "outputs": [],
   "source": [
    ""
   ]
  }
 ],
 "metadata": {
  "colab": {
   "name": "1st_DNN.ipynb",
   "version": "0.3.2",
   "views": {},
   "default_view": {},
   "provenance": [
    {
     "file_id": "1JURGwe4e5Z7928Zv2eiJVPCQNc702huM",
     "timestamp": 1.521864568638E12
    }
   ],
   "collapsed_sections": []
  },
  "kernelspec": {
   "name": "python3",
   "display_name": "Python 3"
  },
  "accelerator": "GPU"
 },
 "nbformat": 4,
 "nbformat_minor": 0
}
