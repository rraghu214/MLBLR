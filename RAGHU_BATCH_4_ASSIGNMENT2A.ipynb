{
  "nbformat": 4,
  "nbformat_minor": 0,
  "metadata": {
    "colab": {
      "name": "RAGHU_BATCH_4_ASSIGNMENT2A.ipynb",
      "version": "0.3.2",
      "provenance": [],
      "collapsed_sections": []
    },
    "kernelspec": {
      "display_name": "Python 3",
      "language": "python",
      "name": "python3"
    }
  },
  "cells": [
    {
      "cell_type": "markdown",
      "metadata": {
        "id": "view-in-github",
        "colab_type": "text"
      },
      "source": [
        "[View in Colaboratory](https://colab.research.google.com/github/rraghu214/MLBLR/blob/master/RAGHU_BATCH_4_ASSIGNMENT2A.ipynb)"
      ]
    },
    {
      "metadata": {
        "id": "hKs6g8rJAJL_",
        "colab_type": "text"
      },
      "cell_type": "markdown",
      "source": [
        "<!--\n",
        "Python:\n",
        "  Simple data types\n",
        "    integer, float, string\n",
        "  Compound data types\n",
        "    tuple, list, dictionary, set\n",
        "  Flow control\n",
        "    if, while, for, try, with\n",
        "  Comprehensions, generators\n",
        "  Functions\n",
        "  Classes\n",
        "  Standard library\n",
        "    json, collections, itertools\n",
        "\n",
        "Numpy\n",
        "-->\n",
        "\n",
        "This tutorial was contributed by [Justin Johnson](http://cs.stanford.edu/people/jcjohns/).\n",
        "\n",
        "We will use the Python programming language for all assignments in this course.\n",
        "Python is a great general-purpose programming language on its own, but with the\n",
        "help of a few popular libraries (numpy, scipy, matplotlib) it becomes a powerful\n",
        "environment for scientific computing.\n",
        "\n",
        "We expect that many of you will have some experience with Python and numpy;\n",
        "for the rest of you, this section will serve as a quick crash course both on\n",
        "the Python programming language and on the use of Python for scientific\n",
        "computing.\n",
        "\n",
        "Some of you may have previous knowledge in Matlab, in which case we also recommend the [numpy for Matlab users](http://wiki.scipy.org/NumPy_for_Matlab_Users) page.\n",
        "\n",
        "You can also find an [IPython notebook version of this tutorial here](https://github.com/kuleshov/cs228-material/blob/master/tutorials/python/cs228-python-tutorial.ipynb) created by [Volodymyr Kuleshov](http://web.stanford.edu/~kuleshov/) and [Isaac Caswell](https://symsys.stanford.edu/viewing/symsysaffiliate/21335) for [CS 228](http://cs.stanford.edu/~ermon/cs228/index.html).\n",
        "\n",
        "Table of contents:\n",
        "\n",
        "- [Python](#python)\n",
        "  - [Basic data types](#python-basic)\n",
        "  - [Containers](#python-containers)\n",
        "      - [Lists](#python-lists)\n",
        "      - [Dictionaries](#python-dicts)\n",
        "      - [Sets](#python-sets)\n",
        "      - [Tuples](#python-tuples)\n",
        "  - [Functions](#python-functions)\n",
        "  - [Classes](#python-classes)\n",
        "- [Numpy](#numpy)\n",
        "  - [Arrays](#numpy-arrays)\n",
        "  - [Array indexing](#numpy-array-indexing)\n",
        "  - [Datatypes](#numpy-datatypes)\n",
        "  - [Array math](#numpy-math)\n",
        "  - [Broadcasting](#numpy-broadcasting)\n",
        "- [SciPy](#scipy)\n",
        "  - [Image operations](#scipy-image)\n",
        "  - [MATLAB files](#scipy-matlab)\n",
        "  - [Distance between points](#scipy-dist)\n",
        "- [Matplotlib](#matplotlib)\n",
        "  - [Plotting](#matplotlib-plotting)\n",
        "  - [Subplots](#matplotlib-subplots)\n",
        "  - [Images](#matplotlib-images)\n",
        "\n",
        "<a name='python'></a>\n",
        "\n",
        "## Python\n",
        "\n",
        "Python is a high-level, dynamically typed multiparadigm programming language.\n",
        "Python code is often said to be almost like pseudocode, since it allows you\n",
        "to express very powerful ideas in very few lines of code while being very\n",
        "readable. As an example, here is an implementation of the classic quicksort\n",
        "algorithm in Python:"
      ]
    },
    {
      "metadata": {
        "id": "KiFPR3J3AJMD",
        "colab_type": "code",
        "colab": {
          "base_uri": "https://localhost:8080/",
          "height": 34
        },
        "outputId": "ca2975bb-be63-45b6-93a9-1ef7299133da"
      },
      "cell_type": "code",
      "source": [
        "def quicksort(mlblr):\n",
        "    if len(mlblr) <= 1:\n",
        "        return mlblr\n",
        "    mlblr_out = mlblr[len(mlblr) // 2]\n",
        "    eip_in = [mlblr_in for mlblr_in in mlblr if mlblr_in < mlblr_out]\n",
        "    eip = [mlblr_in for mlblr_in in mlblr if mlblr_in == mlblr_out]\n",
        "    eip_out = [mlblr_in for mlblr_in in mlblr if mlblr_in > mlblr_out]\n",
        "    return quicksort(eip_in) + eip + quicksort(eip_out)\n",
        "\n",
        "print(quicksort([3,6,8,10,1,2,1]))\n",
        "# Prints \"[1, 1, 2, 3, 6, 8, 10]\""
      ],
      "execution_count": 1,
      "outputs": [
        {
          "output_type": "stream",
          "text": [
            "[1, 1, 2, 3, 6, 8, 10]\n"
          ],
          "name": "stdout"
        }
      ]
    },
    {
      "metadata": {
        "id": "QXD0T2eEAJMO",
        "colab_type": "text"
      },
      "cell_type": "markdown",
      "source": [
        "### Python versions\n",
        "There are currently two different supported versions of Python, 2.7 and 3.5.\n",
        "Somewhat confusingly, Python 3.0 introduced many backwards-incompatible changes\n",
        "to the language, so code written for 2.7 may not work under 3.5 and vice versa.\n",
        "For this class all code will use Python 3.5.\n",
        "\n",
        "You can check your Python version at the command line by running\n",
        "`python --version`.\n",
        "\n",
        "<a name='python-basic'></a>\n",
        "\n",
        "### Basic data types\n",
        "\n",
        "Like most languages, Python has a number of basic types including integers,\n",
        "floats, booleans, and strings. These data types behave in ways that are\n",
        "familiar from other programming languages.\n",
        "\n",
        "**Numbers:** Integers and floats work as you would expect from other languages:"
      ]
    },
    {
      "metadata": {
        "id": "tRSjJ9UvAJMP",
        "colab_type": "code",
        "colab": {
          "base_uri": "https://localhost:8080/",
          "height": 185
        },
        "outputId": "61954ff8-b0af-4b70-82e9-b7d5a76faeac"
      },
      "cell_type": "code",
      "source": [
        "eip_in = 3\n",
        "print(type(eip_in)) # Prints \"<class 'int'>\"\n",
        "print(eip_in)       # Prints \"3\"\n",
        "print(eip_in + 1)   # Addition; prints \"4\"\n",
        "print(eip_in - 1)   # Subtraction; prints \"2\"\n",
        "print(eip_in * 2)   # Multiplication; prints \"6\"\n",
        "print(eip_in ** 2)  # Exponentiation; prints \"9\"\n",
        "eip_in += 1\n",
        "print(eip_in)  # Prints \"4\"\n",
        "eip_in *= 2\n",
        "print(eip_in)  # Prints \"8\"\n",
        "eip_out = 2.5\n",
        "print(type(eip_out)) # Prints \"<class 'float'>\"\n",
        "print(eip_out, eip_out + 1, eip_out * 2, eip_out ** 2) # Prints \"2.5 3.5 5.0 6.25\""
      ],
      "execution_count": 2,
      "outputs": [
        {
          "output_type": "stream",
          "text": [
            "<class 'int'>\n",
            "3\n",
            "4\n",
            "2\n",
            "6\n",
            "9\n",
            "4\n",
            "8\n",
            "<class 'float'>\n",
            "2.5 3.5 5.0 6.25\n"
          ],
          "name": "stdout"
        }
      ]
    },
    {
      "metadata": {
        "id": "YfLxPi6oAJMT",
        "colab_type": "text"
      },
      "cell_type": "markdown",
      "source": [
        "Note that unlike many languages, Python does not have unary increment (`x++`)\n",
        "or decrement (`x--`) operators.\n",
        "\n",
        "Python also has built-in types for complex numbers;\n",
        "you can find all of the details\n",
        "[in the documentation](https://docs.python.org/3.5/library/stdtypes.html#numeric-types-int-float-complex).\n",
        "\n",
        "**Booleans:** Python implements all of the usual operators for Boolean logic,\n",
        "but uses English words rather than symbols (`&&`, `||`, etc.):"
      ]
    },
    {
      "metadata": {
        "id": "f07aYfIAAJMU",
        "colab_type": "code",
        "colab": {
          "base_uri": "https://localhost:8080/",
          "height": 101
        },
        "outputId": "51858444-c509-40a2-d018-aa8c11527d12"
      },
      "cell_type": "code",
      "source": [
        "eip_in = True\n",
        "eip_out = False\n",
        "print(type(eip_in)) # Prints \"<class 'bool'>\"\n",
        "print(eip_in and eip_out) # Logical AND; prints \"False\"\n",
        "print(eip_in or eip_out)  # Logical OR; prints \"True\"\n",
        "print(not eip_in)   # Logical NOT; prints \"False\"\n",
        "print(eip_in != eip_out)  # Logical XOR; prints \"True\""
      ],
      "execution_count": 3,
      "outputs": [
        {
          "output_type": "stream",
          "text": [
            "<class 'bool'>\n",
            "False\n",
            "True\n",
            "False\n",
            "True\n"
          ],
          "name": "stdout"
        }
      ]
    },
    {
      "metadata": {
        "id": "Mw2wxVttAJMX",
        "colab_type": "text"
      },
      "cell_type": "markdown",
      "source": [
        "**Strings:** Python has great support for strings:"
      ]
    },
    {
      "metadata": {
        "id": "ItzKl3JiAJMZ",
        "colab_type": "code",
        "colab": {
          "base_uri": "https://localhost:8080/",
          "height": 84
        },
        "outputId": "c1b308a1-c662-42bc-b871-1d5f2c3bff1e"
      },
      "cell_type": "code",
      "source": [
        "eip_in = 'hello'    # String literals can use single quotes\n",
        "eip_out = \"world\"    # or double quotes; it does not matter.\n",
        "print(eip_in)       # Prints \"hello\"\n",
        "print(len(eip_in))  # String length; prints \"5\"\n",
        "mlblr_out = eip_in + ' ' + eip_out  # String concatenation\n",
        "print(mlblr_out)  # prints \"hello world\"\n",
        "eip_dict = '%s %s %d' % (eip_in, eip_out, 12)  # sprintf style string formatting\n",
        "print(eip_dict)  # prints \"hello world 12\""
      ],
      "execution_count": 4,
      "outputs": [
        {
          "output_type": "stream",
          "text": [
            "hello\n",
            "5\n",
            "hello world\n",
            "hello world 12\n"
          ],
          "name": "stdout"
        }
      ]
    },
    {
      "metadata": {
        "id": "COmQ3tJeAJMd",
        "colab_type": "text"
      },
      "cell_type": "markdown",
      "source": [
        "String objects have a bunch of useful methods; for example:"
      ]
    },
    {
      "metadata": {
        "id": "yzseEzebAJMe",
        "colab_type": "code",
        "colab": {
          "base_uri": "https://localhost:8080/",
          "height": 118
        },
        "outputId": "af62e155-97b2-4b9b-9980-7047625ee48e"
      },
      "cell_type": "code",
      "source": [
        "eip_in = \"hello\"\n",
        "print(eip_in.capitalize())  # Capitalize a string; prints \"Hello\"\n",
        "print(eip_in.upper())       # Convert a string to uppercase; prints \"HELLO\"\n",
        "print(eip_in.rjust(7))      # Right-justify a string, padding with spaces; prints \"  hello\"\n",
        "print(eip_in.center(7))     # Center a string, padding with spaces; prints \" hello \"\n",
        "print(eip_in.replace('l', '(ell)'))  # Replace all instances of one substring with another;\n",
        "                                # prints \"he(ell)(ell)o\"\n",
        "print('  world '.strip())  # Strip leading and trailing whitespace; prints \"world\""
      ],
      "execution_count": 5,
      "outputs": [
        {
          "output_type": "stream",
          "text": [
            "Hello\n",
            "HELLO\n",
            "  hello\n",
            " hello \n",
            "he(ell)(ell)o\n",
            "world\n"
          ],
          "name": "stdout"
        }
      ]
    },
    {
      "metadata": {
        "id": "5dfM0TlKAJMi",
        "colab_type": "text"
      },
      "cell_type": "markdown",
      "source": [
        "You can find a list of all string methods [in the documentation](https://docs.python.org/3.5/library/stdtypes.html#string-methods).\n",
        "\n",
        "<a name='python-containers'></a>\n",
        "\n",
        "### Containers\n",
        "Python includes several built-in container types: lists, dictionaries, sets, and tuples.\n",
        "\n",
        "<a name='python-lists'></a>\n",
        "\n",
        "#### Lists\n",
        "A list is the Python equivalent of an array, but is resizeable\n",
        "and can contain elements of different types:"
      ]
    },
    {
      "metadata": {
        "id": "on3ka6IeAJMj",
        "colab_type": "code",
        "colab": {
          "base_uri": "https://localhost:8080/",
          "height": 101
        },
        "outputId": "eda53172-384d-421b-aaf0-c7a6f1063f06"
      },
      "cell_type": "code",
      "source": [
        "eip_in = [3, 1, 2]    # Create a list\n",
        "print(eip_in, eip_in[2])  # Prints \"[3, 1, 2] 2\"\n",
        "print(eip_in[-1])     # Negative indices count from the end of the list; prints \"2\"\n",
        "eip_in[2] = 'foo'     # Lists can contain elements of different types\n",
        "print(eip_in)         # Prints \"[3, 1, 'foo']\"\n",
        "eip_in.append('bar')  # Add a new element to the end of the list\n",
        "print(eip_in)         # Prints \"[3, 1, 'foo', 'bar']\"\n",
        "eip_out = eip_in.pop()      # Remove and return the last element of the list\n",
        "print(eip_out, eip_in)      # Prints \"bar [3, 1, 'foo']\""
      ],
      "execution_count": 6,
      "outputs": [
        {
          "output_type": "stream",
          "text": [
            "[3, 1, 2] 2\n",
            "2\n",
            "[3, 1, 'foo']\n",
            "[3, 1, 'foo', 'bar']\n",
            "bar [3, 1, 'foo']\n"
          ],
          "name": "stdout"
        }
      ]
    },
    {
      "metadata": {
        "id": "_SK6in_hAJMn",
        "colab_type": "text"
      },
      "cell_type": "markdown",
      "source": [
        "As usual, you can find all the gory details about lists\n",
        "[in the documentation](https://docs.python.org/3.5/tutorial/datastructures.html#more-on-lists).\n",
        "\n",
        "**Slicing:**\n",
        "In addition to accessing list elements one at a time, Python provides\n",
        "concise syntax to access sublists; this is known as *slicing*:"
      ]
    },
    {
      "metadata": {
        "id": "s6ZWqcJ8AJMo",
        "colab_type": "code",
        "colab": {
          "base_uri": "https://localhost:8080/",
          "height": 134
        },
        "outputId": "95380ad2-9723-4614-e85d-97a29da262ac"
      },
      "cell_type": "code",
      "source": [
        "eip_in = list(range(5))     # range is a built-in function that creates a list of integers\n",
        "print(eip_in)               # Prints \"[0, 1, 2, 3, 4]\"\n",
        "print(eip_in[2:4])          # Get a slice from index 2 to 4 (exclusive); prints \"[2, 3]\"\n",
        "print(eip_in[2:])           # Get a slice from index 2 to the end; prints \"[2, 3, 4]\"\n",
        "print(eip_in[:2])           # Get a slice from the start to index 2 (exclusive); prints \"[0, 1]\"\n",
        "print(eip_in[:])            # Get a slice of the whole list; prints \"[0, 1, 2, 3, 4]\"\n",
        "print(eip_in[:-1])          # Slice indices can be negative; prints \"[0, 1, 2, 3]\"\n",
        "eip_in[2:4] = [8, 9]        # Assign a new sublist to a slice\n",
        "print(eip_in)               # Prints \"[0, 1, 8, 9, 4]\""
      ],
      "execution_count": 7,
      "outputs": [
        {
          "output_type": "stream",
          "text": [
            "[0, 1, 2, 3, 4]\n",
            "[2, 3]\n",
            "[2, 3, 4]\n",
            "[0, 1]\n",
            "[0, 1, 2, 3, 4]\n",
            "[0, 1, 2, 3]\n",
            "[0, 1, 8, 9, 4]\n"
          ],
          "name": "stdout"
        }
      ]
    },
    {
      "metadata": {
        "id": "umh-JI6yAJMs",
        "colab_type": "text"
      },
      "cell_type": "markdown",
      "source": [
        "We will see slicing again in the context of numpy arrays.\n",
        "\n",
        "**Loops:** You can loop over the elements of a list like this:"
      ]
    },
    {
      "metadata": {
        "id": "yLOuMlZpAJMt",
        "colab_type": "code",
        "colab": {
          "base_uri": "https://localhost:8080/",
          "height": 67
        },
        "outputId": "5fa02788-995e-4ac4-9a10-5db6ee8f4323"
      },
      "cell_type": "code",
      "source": [
        "eip_in = ['cat', 'dog', 'monkey']\n",
        "for eip_out in eip_in:\n",
        "    print(eip_out)\n",
        "# Prints \"cat\", \"dog\", \"monkey\", each on its own line."
      ],
      "execution_count": 8,
      "outputs": [
        {
          "output_type": "stream",
          "text": [
            "cat\n",
            "dog\n",
            "monkey\n"
          ],
          "name": "stdout"
        }
      ]
    },
    {
      "metadata": {
        "id": "KsHifTlpAJMw",
        "colab_type": "text"
      },
      "cell_type": "markdown",
      "source": [
        "If you want access to the index of each element within the body of a loop,\n",
        "use the built-in `enumerate` function:"
      ]
    },
    {
      "metadata": {
        "id": "UZQbluApAJMw",
        "colab_type": "code",
        "colab": {
          "base_uri": "https://localhost:8080/",
          "height": 67
        },
        "outputId": "c10e33f7-4bb3-4628-b683-42a9178d0f99"
      },
      "cell_type": "code",
      "source": [
        "eip_in = ['cat', 'dog', 'monkey']\n",
        "for eip, eip_out in enumerate(eip_in):\n",
        "    #print(eip)\n",
        "    #print(eip_out)\n",
        "    print('#%d: %s' % (eip + 1 , eip_out))\n",
        "# Prints \"#1: cat\", \"#2: dog\", \"#3: monkey\", each on its own line"
      ],
      "execution_count": 9,
      "outputs": [
        {
          "output_type": "stream",
          "text": [
            "#1: cat\n",
            "#2: dog\n",
            "#3: monkey\n"
          ],
          "name": "stdout"
        }
      ]
    },
    {
      "metadata": {
        "id": "A4EhiJSmAJMy",
        "colab_type": "text"
      },
      "cell_type": "markdown",
      "source": [
        "**List comprehensions:**\n",
        "When programming, frequently we want to transform one type of data into another.\n",
        "As a simple example, consider the following code that computes square numbers:"
      ]
    },
    {
      "metadata": {
        "id": "cqwz5wfvAJMz",
        "colab_type": "code",
        "colab": {
          "base_uri": "https://localhost:8080/",
          "height": 34
        },
        "outputId": "40a5e95f-44a7-4a7c-803e-122fc9ff4da4"
      },
      "cell_type": "code",
      "source": [
        "eip_in = [0, 1, 2, 3, 4]\n",
        "eip_out = []\n",
        "for eip in eip_in:\n",
        "    eip_out.append(eip ** 2)\n",
        "print(eip_out)   # Prints [0, 1, 4, 9, 16]"
      ],
      "execution_count": 10,
      "outputs": [
        {
          "output_type": "stream",
          "text": [
            "[0, 1, 4, 9, 16]\n"
          ],
          "name": "stdout"
        }
      ]
    },
    {
      "metadata": {
        "id": "rvJZeBmxAJM2",
        "colab_type": "text"
      },
      "cell_type": "markdown",
      "source": [
        "You can make this code simpler using a **list comprehension**:"
      ]
    },
    {
      "metadata": {
        "id": "cYx78uBIAJM2",
        "colab_type": "code",
        "colab": {
          "base_uri": "https://localhost:8080/",
          "height": 34
        },
        "outputId": "b03bb849-0be3-41ba-c5dc-f1ba904d73f1"
      },
      "cell_type": "code",
      "source": [
        "eip_in = [0, 1, 2, 3, 4]\n",
        "eip_out = [eip ** 2 for eip in eip_in]\n",
        "print(eip_out)   # Prints [0, 1, 4, 9, 16]"
      ],
      "execution_count": 11,
      "outputs": [
        {
          "output_type": "stream",
          "text": [
            "[0, 1, 4, 9, 16]\n"
          ],
          "name": "stdout"
        }
      ]
    },
    {
      "metadata": {
        "id": "mE9YT9HtAJM6",
        "colab_type": "text"
      },
      "cell_type": "markdown",
      "source": [
        "List comprehensions can also contain conditions:"
      ]
    },
    {
      "metadata": {
        "id": "ZnbQD5rNAJM8",
        "colab_type": "code",
        "colab": {
          "base_uri": "https://localhost:8080/",
          "height": 34
        },
        "outputId": "d3fd2bfa-73d4-4145-db04-9a8c159160df"
      },
      "cell_type": "code",
      "source": [
        "eip_in = [0, 1, 2, 3, 4]\n",
        "eip_out = [eip ** 2 for eip in eip_in if eip % 2 == 0]\n",
        "print(eip_out)  # Prints \"[0, 4, 16]\""
      ],
      "execution_count": 12,
      "outputs": [
        {
          "output_type": "stream",
          "text": [
            "[0, 4, 16]\n"
          ],
          "name": "stdout"
        }
      ]
    },
    {
      "metadata": {
        "id": "YXEaQq7WAJNB",
        "colab_type": "text"
      },
      "cell_type": "markdown",
      "source": [
        "<a name='python-dicts'></a>\n",
        "\n",
        "#### Dictionaries\n",
        "A dictionary stores (key, value) pairs, similar to a `Map` in Java or\n",
        "an object in Javascript. You can use it like this:"
      ]
    },
    {
      "metadata": {
        "id": "0UT5W7ZJAJNC",
        "colab_type": "code",
        "colab": {
          "base_uri": "https://localhost:8080/",
          "height": 118
        },
        "outputId": "ef09c375-d9d6-4723-f74a-d3e9d72d5ede"
      },
      "cell_type": "code",
      "source": [
        "eip = {'cat': 'cute', 'dog': 'furry'}  # Create a new dictionary with some data\n",
        "print(eip['cat'])       # Get an entry from a dictionary; prints \"cute\"\n",
        "print('cat' in eip)     # Check if a dictionary has a given key; prints \"True\"\n",
        "eip['fish'] = 'wet'     # Set an entry in a dictionary\n",
        "print(eip['fish'])      # Prints \"wet\"\n",
        "#print(eip['monkey'])  # KeyError: 'monkey' not a key of d\n",
        "print(eip.get('monkey', 'N/A'))  # Get an element with a default; prints \"N/A\"\n",
        "print(eip.get('fish', 'N/A'))    # Get an element with a default; prints \"wet\"\n",
        "del eip['fish']         # Remove an element from a dictionary\n",
        "print(eip.get('fish', 'N/A')) # \"fish\" is no longer a key; prints \"N/A\""
      ],
      "execution_count": 13,
      "outputs": [
        {
          "output_type": "stream",
          "text": [
            "cute\n",
            "True\n",
            "wet\n",
            "N/A\n",
            "wet\n",
            "N/A\n"
          ],
          "name": "stdout"
        }
      ]
    },
    {
      "metadata": {
        "id": "2HLvSZz6AJNF",
        "colab_type": "text"
      },
      "cell_type": "markdown",
      "source": [
        "You can find all you need to know about dictionaries\n",
        "[in the documentation](https://docs.python.org/3.5/library/stdtypes.html#dict).\n",
        "\n",
        "**Loops:** It is easy to iterate over the keys in a dictionary:"
      ]
    },
    {
      "metadata": {
        "id": "u3-Q4O0yAJNF",
        "colab_type": "code",
        "colab": {
          "base_uri": "https://localhost:8080/",
          "height": 67
        },
        "outputId": "dee06084-e97b-4a63-9039-cef120e58a2f"
      },
      "cell_type": "code",
      "source": [
        "eip_in = {'person': 2, 'cat': 4, 'spider': 8}\n",
        "for eip in eip_in:\n",
        "    eip_out = eip_in[eip]\n",
        "    print('A %s has %d legs' % (eip, eip_out))\n",
        "# Prints \"A person has 2 legs\", \"A cat has 4 legs\", \"A spider has 8 legs\""
      ],
      "execution_count": 14,
      "outputs": [
        {
          "output_type": "stream",
          "text": [
            "A person has 2 legs\n",
            "A cat has 4 legs\n",
            "A spider has 8 legs\n"
          ],
          "name": "stdout"
        }
      ]
    },
    {
      "metadata": {
        "id": "8XsFBtbaAJNH",
        "colab_type": "text"
      },
      "cell_type": "markdown",
      "source": [
        "If you want access to keys and their corresponding values, use the `items` method:"
      ]
    },
    {
      "metadata": {
        "id": "QKEo25DuAJNJ",
        "colab_type": "code",
        "colab": {
          "base_uri": "https://localhost:8080/",
          "height": 67
        },
        "outputId": "3bf7efb9-322c-4948-946f-d1741b156efd"
      },
      "cell_type": "code",
      "source": [
        "eip_in = {'person': 2, 'cat': 4, 'spider': 8}\n",
        "for eip, eip_out in eip_in.items():\n",
        "    print('A %s has %d legs' % (eip, eip_out))\n",
        "# Prints \"A person has 2 legs\", \"A cat has 4 legs\", \"A spider has 8 legs\""
      ],
      "execution_count": 15,
      "outputs": [
        {
          "output_type": "stream",
          "text": [
            "A person has 2 legs\n",
            "A cat has 4 legs\n",
            "A spider has 8 legs\n"
          ],
          "name": "stdout"
        }
      ]
    },
    {
      "metadata": {
        "id": "GPC_c4-bAJNL",
        "colab_type": "text"
      },
      "cell_type": "markdown",
      "source": [
        "**Dictionary comprehensions:**\n",
        "These are similar to list comprehensions, but allow you to easily construct\n",
        "dictionaries. For example:"
      ]
    },
    {
      "metadata": {
        "id": "E4n0GtFAAJNL",
        "colab_type": "code",
        "colab": {
          "base_uri": "https://localhost:8080/",
          "height": 34
        },
        "outputId": "fcabe6e7-858c-4f05-b948-e6dd981636d7"
      },
      "cell_type": "code",
      "source": [
        "eip_in = [0, 1, 2, 3, 4]\n",
        "eip_out = {eip: eip ** 2 for eip in eip_in if eip % 2 == 0}\n",
        "print(eip_out)  # Prints \"{0: 0, 2: 4, 4: 16}\""
      ],
      "execution_count": 16,
      "outputs": [
        {
          "output_type": "stream",
          "text": [
            "{0: 0, 2: 4, 4: 16}\n"
          ],
          "name": "stdout"
        }
      ]
    },
    {
      "metadata": {
        "id": "wNtOW1-lAJNN",
        "colab_type": "text"
      },
      "cell_type": "markdown",
      "source": [
        "<a name='python-sets'></a>\n",
        "\n",
        "#### Sets\n",
        "A set is an unordered collection of distinct elements. As a simple example, consider\n",
        "the following:"
      ]
    },
    {
      "metadata": {
        "id": "3nFNPZBCAJNO",
        "colab_type": "code",
        "colab": {
          "base_uri": "https://localhost:8080/",
          "height": 118
        },
        "outputId": "9426774b-9c46-471b-f6b5-00a56394c9f7"
      },
      "cell_type": "code",
      "source": [
        "eip = {'cat', 'dog'}\n",
        "print('cat' in eip)   # Check if an element is in a set; prints \"True\"\n",
        "print('fish' in eip)  # prints \"False\"\n",
        "eip.add('fish')       # Add an element to a set\n",
        "print('fish' in eip)  # Prints \"True\"\n",
        "print(len(eip))       # Number of elements in a set; prints \"3\"\n",
        "eip.add('cat')        # Adding an element that is already in the set does nothing\n",
        "print(len(eip))       # Prints \"3\"\n",
        "eip.remove('cat')     # Remove an element from a set\n",
        "print(len(eip))       # Prints \"2\""
      ],
      "execution_count": 17,
      "outputs": [
        {
          "output_type": "stream",
          "text": [
            "True\n",
            "False\n",
            "True\n",
            "3\n",
            "3\n",
            "2\n"
          ],
          "name": "stdout"
        }
      ]
    },
    {
      "metadata": {
        "id": "jnPQXi3TAJNQ",
        "colab_type": "text"
      },
      "cell_type": "markdown",
      "source": [
        "As usual, everything you want to know about sets can be found\n",
        "[in the documentation](https://docs.python.org/3.5/library/stdtypes.html#set).\n",
        "\n",
        "\n",
        "**Loops:**\n",
        "Iterating over a set has the same syntax as iterating over a list;\n",
        "however since sets are unordered, you cannot make assumptions about the order\n",
        "in which you visit the elements of the set:"
      ]
    },
    {
      "metadata": {
        "id": "2SVKlO33AJNR",
        "colab_type": "code",
        "colab": {
          "base_uri": "https://localhost:8080/",
          "height": 67
        },
        "outputId": "05adfaae-17c4-49aa-e0ee-83020213afa5"
      },
      "cell_type": "code",
      "source": [
        "eip_in = {'cat', 'dog', 'fish'}\n",
        "for eip, eip_out in enumerate(eip_in):\n",
        "    print('#%d: %s' % (eip + 1, eip_out))\n",
        "# Prints \"#1: fish\", \"#2: dog\", \"#3: cat\""
      ],
      "execution_count": 18,
      "outputs": [
        {
          "output_type": "stream",
          "text": [
            "#1: dog\n",
            "#2: cat\n",
            "#3: fish\n"
          ],
          "name": "stdout"
        }
      ]
    },
    {
      "metadata": {
        "id": "HdpI6vR9AJNS",
        "colab_type": "text"
      },
      "cell_type": "markdown",
      "source": [
        "**Set comprehensions:**\n",
        "Like lists and dictionaries, we can easily construct sets using set comprehensions:"
      ]
    },
    {
      "metadata": {
        "id": "I6vAOx7jAJNT",
        "colab_type": "code",
        "colab": {
          "base_uri": "https://localhost:8080/",
          "height": 34
        },
        "outputId": "c354e9f1-7070-4550-91f6-db867eec5338"
      },
      "cell_type": "code",
      "source": [
        "from math import sqrt\n",
        "eip_out = {int(sqrt(eip_in)) for eip_in in range(30)}\n",
        "print(eip_out)  # Prints \"{0, 1, 2, 3, 4, 5}\""
      ],
      "execution_count": 19,
      "outputs": [
        {
          "output_type": "stream",
          "text": [
            "{0, 1, 2, 3, 4, 5}\n"
          ],
          "name": "stdout"
        }
      ]
    },
    {
      "metadata": {
        "id": "1iOWLQicAJNV",
        "colab_type": "text"
      },
      "cell_type": "markdown",
      "source": [
        "<a name='python-tuples'></a>\n",
        "\n",
        "#### Tuples\n",
        "A tuple is an (immutable) ordered list of values.\n",
        "A tuple is in many ways similar to a list; one of the most important differences is that\n",
        "tuples can be used as keys in dictionaries and as elements of sets, while lists cannot.\n",
        "Here is a trivial example:"
      ]
    },
    {
      "metadata": {
        "id": "lYLSgMuDAJNV",
        "colab_type": "code",
        "colab": {
          "base_uri": "https://localhost:8080/",
          "height": 67
        },
        "outputId": "319c6a90-a64b-4421-de04-6e30f37e1e36"
      },
      "cell_type": "code",
      "source": [
        "eip_in = {(eip, eip + 1): eip for eip in range(10)}  # Create a dictionary with tuple keys\n",
        "eip_out = (5, 6)        # Create a tuple\n",
        "print(type(eip_out))    # Prints \"<class 'tuple'>\"\n",
        "print(eip_in[eip_out])       # Prints \"5\"\n",
        "print(eip_in[(1, 2)])  # Prints \"1\""
      ],
      "execution_count": 20,
      "outputs": [
        {
          "output_type": "stream",
          "text": [
            "<class 'tuple'>\n",
            "5\n",
            "1\n"
          ],
          "name": "stdout"
        }
      ]
    },
    {
      "metadata": {
        "id": "j3y30GsfAJNY",
        "colab_type": "text"
      },
      "cell_type": "markdown",
      "source": [
        "[The documentation](https://docs.python.org/3.5/tutorial/datastructures.html#tuples-and-sequences) has more information about tuples.\n",
        "\n",
        "<a name='python-functions'></a>\n",
        "\n",
        "### Functions\n",
        "Python functions are defined using the `def` keyword. For example:"
      ]
    },
    {
      "metadata": {
        "id": "rF9knvu0AJNY",
        "colab_type": "code",
        "colab": {
          "base_uri": "https://localhost:8080/",
          "height": 67
        },
        "outputId": "242fe9c3-b8f5-4278-c055-2342abe5aac8"
      },
      "cell_type": "code",
      "source": [
        "def sign(eip):\n",
        "    if eip > 0:\n",
        "        return 'positive'\n",
        "    elif eip < 0:\n",
        "        return 'negative'\n",
        "    else:\n",
        "        return 'zero'\n",
        "\n",
        "for eip in [-1, 0, 1]:\n",
        "    print(sign(eip))\n",
        "# Prints \"negative\", \"zero\", \"positive\""
      ],
      "execution_count": 21,
      "outputs": [
        {
          "output_type": "stream",
          "text": [
            "negative\n",
            "zero\n",
            "positive\n"
          ],
          "name": "stdout"
        }
      ]
    },
    {
      "metadata": {
        "id": "XfDlJku8AJNa",
        "colab_type": "text"
      },
      "cell_type": "markdown",
      "source": [
        "We will often define functions to take optional keyword arguments, like this:"
      ]
    },
    {
      "metadata": {
        "id": "iNTrFb3sAJNc",
        "colab_type": "code",
        "colab": {
          "base_uri": "https://localhost:8080/",
          "height": 50
        },
        "outputId": "1f95a4cb-e3fb-4479-bae7-d89810f0d23c"
      },
      "cell_type": "code",
      "source": [
        "def hello(eip, mlblr=False):\n",
        "    if mlblr:\n",
        "        print('HELLO, %s!' % eip.upper())\n",
        "    else:\n",
        "        print('Hello, %s' % eip)\n",
        "\n",
        "hello('Bob') # Prints \"Hello, Bob\"\n",
        "hello('Fred', mlblr=True)  # Prints \"HELLO, FRED!\""
      ],
      "execution_count": 22,
      "outputs": [
        {
          "output_type": "stream",
          "text": [
            "Hello, Bob\n",
            "HELLO, FRED!\n"
          ],
          "name": "stdout"
        }
      ]
    },
    {
      "metadata": {
        "id": "0ZooTtbWAJNf",
        "colab_type": "text"
      },
      "cell_type": "markdown",
      "source": [
        "There is a lot more information about Python functions\n",
        "[in the documentation](https://docs.python.org/3.5/tutorial/controlflow.html#defining-functions).\n",
        "\n",
        "<a name='python-classes'></a>\n",
        "\n",
        "### Classes\n",
        "\n",
        "The syntax for defining classes in Python is straightforward:"
      ]
    },
    {
      "metadata": {
        "id": "DpAO1CJTAJNf",
        "colab_type": "code",
        "colab": {
          "base_uri": "https://localhost:8080/",
          "height": 50
        },
        "outputId": "b12dab72-e408-441e-a767-9c509cec4e64"
      },
      "cell_type": "code",
      "source": [
        "class Greeter(object):\n",
        "\n",
        "    # Constructor\n",
        "    def __init__(self, eip):\n",
        "        self.eip = eip  # Create an instance variable\n",
        "\n",
        "    # Instance method\n",
        "    def greet(self, eip_in=False):\n",
        "        if eip_in:\n",
        "            print('HELLO, %s!' % self.eip.upper())\n",
        "        else:\n",
        "            print('Hello, %s' % self.eip)\n",
        "\n",
        "eip_out = Greeter('Fred')  # Construct an instance of the Greeter class\n",
        "eip_out.greet()            # Call an instance method; prints \"Hello, Fred\"\n",
        "eip_out.greet(eip_in=True)   # Call an instance method; prints \"HELLO, FRED!\""
      ],
      "execution_count": 23,
      "outputs": [
        {
          "output_type": "stream",
          "text": [
            "Hello, Fred\n",
            "HELLO, FRED!\n"
          ],
          "name": "stdout"
        }
      ]
    },
    {
      "metadata": {
        "id": "PeTTJPBMAJNh",
        "colab_type": "text"
      },
      "cell_type": "markdown",
      "source": [
        "You can read a lot more about Python classes\n",
        "[in the documentation](https://docs.python.org/3.5/tutorial/classes.html).\n",
        "\n",
        "<a name='numpy'></a>\n",
        "\n",
        "## Numpy\n",
        "\n",
        "[Numpy](http://www.numpy.org/) is the core library for scientific computing in Python.\n",
        "It provides a high-performance multidimensional array object, and tools for working with these\n",
        "arrays. If you are already familiar with MATLAB, you might find\n",
        "[this tutorial useful](http://wiki.scipy.org/NumPy_for_Matlab_Users) to get started with Numpy.\n",
        "\n",
        "<a name='numpy-arrays'></a>\n",
        "\n",
        "### Arrays\n",
        "A numpy array is a grid of values, all of the same type, and is indexed by a tuple of\n",
        "nonnegative integers. The number of dimensions is the *rank* of the array; the *shape*\n",
        "of an array is a tuple of integers giving the size of the array along each dimension.\n",
        "\n",
        "We can initialize numpy arrays from nested Python lists,\n",
        "and access elements using square brackets:"
      ]
    },
    {
      "metadata": {
        "id": "rEsWofbFAJNi",
        "colab_type": "code",
        "colab": {
          "base_uri": "https://localhost:8080/",
          "height": 118
        },
        "outputId": "9905d44d-32f7-46d8-b772-ae1a34b7918b"
      },
      "cell_type": "code",
      "source": [
        "import numpy as np\n",
        "\n",
        "eip = np.array([1, 2, 3])   # Create a rank 1 array\n",
        "print(type(eip))            # Prints \"<class 'numpy.ndarray'>\"\n",
        "print(eip.shape)            # Prints \"(3,)\"\n",
        "print(eip[0], eip[1], eip[2])   # Prints \"1 2 3\"\n",
        "eip[0] = 5                  # Change an element of the array\n",
        "print(eip)                  # Prints \"[5, 2, 3]\"\n",
        "\n",
        "mlblr = np.array([[1,2,3],[4,5,6]])    # Create a rank 2 array\n",
        "print(mlblr.shape)                     # Prints \"(2, 3)\"\n",
        "print(mlblr[0, 0], mlblr[0, 1], mlblr[1, 0])   # Prints \"1 2 4\""
      ],
      "execution_count": 47,
      "outputs": [
        {
          "output_type": "stream",
          "text": [
            "<class 'numpy.ndarray'>\n",
            "(3,)\n",
            "1 2 3\n",
            "[5 2 3]\n",
            "(2, 3)\n",
            "1 2 4\n"
          ],
          "name": "stdout"
        }
      ]
    },
    {
      "metadata": {
        "id": "spNmJoM7AJNj",
        "colab_type": "text"
      },
      "cell_type": "markdown",
      "source": [
        "Numpy also provides many functions to create arrays:"
      ]
    },
    {
      "metadata": {
        "id": "gZ2-J0eaAJNk",
        "colab_type": "code",
        "colab": {
          "base_uri": "https://localhost:8080/",
          "height": 168
        },
        "outputId": "173b14e4-4712-41cb-a568-3358a88f96f5"
      },
      "cell_type": "code",
      "source": [
        "import numpy as np\n",
        "\n",
        "eip = np.zeros((2,2))   # Create an array of all zeros\n",
        "print(eip)              # Prints \"[[ 0.  0.]\n",
        "                      #          [ 0.  0.]]\"\n",
        "\n",
        "eip = np.ones((1,2))    # Create an array of all ones\n",
        "print(eip)              # Prints \"[[ 1.  1.]]\"\n",
        "\n",
        "eip = np.full((2,2), 7)  # Create a constant array\n",
        "print(eip)               # Prints \"[[ 7.  7.]\n",
        "                       #          [ 7.  7.]]\"\n",
        "\n",
        "eip = np.eye(2)         # Create a 2x2 identity matrix\n",
        "print(eip)              # Prints \"[[ 1.  0.]\n",
        "                      #          [ 0.  1.]]\"\n",
        "\n",
        "eip = np.random.random((2,2))  # Create an array filled with random values\n",
        "print(eip)                     # Might print \"[[ 0.91940167  0.08143941]\n",
        "                             #               [ 0.68744134  0.87236687]]\""
      ],
      "execution_count": 25,
      "outputs": [
        {
          "output_type": "stream",
          "text": [
            "[[0. 0.]\n",
            " [0. 0.]]\n",
            "[[1. 1.]]\n",
            "[[7 7]\n",
            " [7 7]]\n",
            "[[1. 0.]\n",
            " [0. 1.]]\n",
            "[[0.718194   0.32098808]\n",
            " [0.31953188 0.66791047]]\n"
          ],
          "name": "stdout"
        }
      ]
    },
    {
      "metadata": {
        "id": "JXAeO577AJNm",
        "colab_type": "text"
      },
      "cell_type": "markdown",
      "source": [
        "You can read about other methods of array creation\n",
        "[in the documentation](http://docs.scipy.org/doc/numpy/user/basics.creation.html#arrays-creation).\n",
        "\n",
        "<a name='numpy-array-indexing'></a>\n",
        "\n",
        "### Array indexing\n",
        "Numpy offers several ways to index into arrays.\n",
        "\n",
        "**Slicing:**\n",
        "Similar to Python lists, numpy arrays can be sliced.\n",
        "Since arrays may be multidimensional, you must specify a slice for each dimension\n",
        "of the array:"
      ]
    },
    {
      "metadata": {
        "id": "DgifeLxmAJNo",
        "colab_type": "code",
        "colab": {
          "base_uri": "https://localhost:8080/",
          "height": 50
        },
        "outputId": "1d497553-9310-413a-adec-b066d2e2bf6b"
      },
      "cell_type": "code",
      "source": [
        "import numpy as np\n",
        "\n",
        "# Create the following rank 2 array with shape (3, 4)\n",
        "# [[ 1  2  3  4]\n",
        "#  [ 5  6  7  8]\n",
        "#  [ 9 10 11 12]]\n",
        "eip = np.array([[1,2,3,4], [5,6,7,8], [9,10,11,12]])\n",
        "\n",
        "# Use slicing to pull out the subarray consisting of the first 2 rows\n",
        "# and columns 1 and 2; b is the following array of shape (2, 2):\n",
        "# [[2 3]\n",
        "#  [6 7]]\n",
        "eip_in = eip[:2, 1:3]\n",
        "\n",
        "# A slice of an array is a view into the same data, so modifying it\n",
        "# will modify the original array.\n",
        "print(eip[0, 1])   # Prints \"2\"\n",
        "eip_in[0, 0] = 77     # b[0, 0] is the same piece of data as a[0, 1]\n",
        "print(eip[0, 1])   # Prints \"77\""
      ],
      "execution_count": 26,
      "outputs": [
        {
          "output_type": "stream",
          "text": [
            "2\n",
            "77\n"
          ],
          "name": "stdout"
        }
      ]
    },
    {
      "metadata": {
        "id": "X6WDENoPAJNq",
        "colab_type": "text"
      },
      "cell_type": "markdown",
      "source": [
        "You can also mix integer indexing with slice indexing.\n",
        "However, doing so will yield an array of lower rank than the original array.\n",
        "Note that this is quite different from the way that MATLAB handles array\n",
        "slicing:"
      ]
    },
    {
      "metadata": {
        "id": "S4jBmFQtAJNr",
        "colab_type": "code",
        "colab": {
          "base_uri": "https://localhost:8080/",
          "height": 118
        },
        "outputId": "5c9100a9-b898-4c63-99ab-5389402bdc70"
      },
      "cell_type": "code",
      "source": [
        "import numpy as np\n",
        "\n",
        "# Create the following rank 2 array with shape (3, 4)\n",
        "# [[ 1  2  3  4]\n",
        "#  [ 5  6  7  8]\n",
        "#  [ 9 10 11 12]]\n",
        "eip_in = np.array([[1,2,3,4], [5,6,7,8], [9,10,11,12]])\n",
        "\n",
        "# Two ways of accessing the data in the middle row of the array.\n",
        "# Mixing integer indexing with slices yields an array of lower rank,\n",
        "# while using only slices yields an array of the same rank as the\n",
        "# original array:\n",
        "eip = eip_in[1, :]    # Rank 1 view of the second row of a\n",
        "mlblr = eip_in[1:2, :]  # Rank 2 view of the second row of a\n",
        "print(eip, eip.shape)  # Prints \"[5 6 7 8] (4,)\"\n",
        "print(mlblr, mlblr.shape)  # Prints \"[[5 6 7 8]] (1, 4)\"\n",
        "\n",
        "# We can make the same distinction when accessing columns of an array:\n",
        "mlblr_in = eip_in[:, 1]\n",
        "mlblr_out = eip_in[:, 1:2]\n",
        "print(mlblr_in, mlblr_in.shape)  # Prints \"[ 2  6 10] (3,)\"\n",
        "print(mlblr_out, mlblr_out.shape)  # Prints \"[[ 2]\n",
        "                             #          [ 6]\n",
        "                             #          [10]] (3, 1)\""
      ],
      "execution_count": 27,
      "outputs": [
        {
          "output_type": "stream",
          "text": [
            "[5 6 7 8] (4,)\n",
            "[[5 6 7 8]] (1, 4)\n",
            "[ 2  6 10] (3,)\n",
            "[[ 2]\n",
            " [ 6]\n",
            " [10]] (3, 1)\n"
          ],
          "name": "stdout"
        }
      ]
    },
    {
      "metadata": {
        "id": "Fg8k_wFWAJNt",
        "colab_type": "text"
      },
      "cell_type": "markdown",
      "source": [
        "**Integer array indexing:**\n",
        "When you index into numpy arrays using slicing, the resulting array view\n",
        "will always be a subarray of the original array. In contrast, integer array\n",
        "indexing allows you to construct arbitrary arrays using the data from another\n",
        "array. Here is an example:"
      ]
    },
    {
      "metadata": {
        "id": "rrvNruc2AJNt",
        "colab_type": "code",
        "colab": {
          "base_uri": "https://localhost:8080/",
          "height": 84
        },
        "outputId": "79f303e3-b0d2-48b2-e978-3cd7ac4c49cb"
      },
      "cell_type": "code",
      "source": [
        "import numpy as np\n",
        "\n",
        "eip = np.array([[1,2], [3, 4], [5, 6]])\n",
        "#print(eip[:])\n",
        "# An example of integer array indexing.\n",
        "# The returned array will have shape (3,) and\n",
        "print(eip[[0, 1, 2], [0, 1, 0]])  # Prints \"[1 4 5]\"\n",
        "\n",
        "# The above example of integer array indexing is equivalent to this:\n",
        "print(np.array([eip[0, 0], eip[1, 1], eip[2, 0]]))  # Prints \"[1 4 5]\"\n",
        "\n",
        "# When using integer array indexing, you can reuse the same\n",
        "# element from the source array:\n",
        "print(eip[[0, 0], [1, 1]])  # Prints \"[2 2]\"\n",
        "\n",
        "# Equivalent to the previous integer array indexing example\n",
        "print(np.array([eip[0, 1], eip[0, 1]]))  # Prints \"[2 2]\""
      ],
      "execution_count": 28,
      "outputs": [
        {
          "output_type": "stream",
          "text": [
            "[1 4 5]\n",
            "[1 4 5]\n",
            "[2 2]\n",
            "[2 2]\n"
          ],
          "name": "stdout"
        }
      ]
    },
    {
      "metadata": {
        "id": "ygA2-1MwAJNv",
        "colab_type": "text"
      },
      "cell_type": "markdown",
      "source": [
        "One useful trick with integer array indexing is selecting or mutating one\n",
        "element from each row of a matrix:"
      ]
    },
    {
      "metadata": {
        "id": "Yy6styXoAJNv",
        "colab_type": "code",
        "colab": {
          "base_uri": "https://localhost:8080/",
          "height": 168
        },
        "outputId": "5fb45fb1-03d2-4ed1-96e3-5dfdd7511e75"
      },
      "cell_type": "code",
      "source": [
        "import numpy as np\n",
        "\n",
        "# Create a new array from which we will select elements\n",
        "eip = np.array([[1,2,3], [4,5,6], [7,8,9], [10, 11, 12]])\n",
        "\n",
        "print(eip)  # prints \"array([[ 1,  2,  3],\n",
        "          #                [ 4,  5,  6],\n",
        "          #                [ 7,  8,  9],\n",
        "          #                [10, 11, 12]])\"\n",
        "\n",
        "# Create an array of indices\n",
        "mlblr = np.array([0, 2, 0, 1])\n",
        "\n",
        "# Select one element from each row of a using the indices in b\n",
        "print(eip[np.arange(4), mlblr])  # Prints \"[ 1  6  7 11]\"\n",
        "\n",
        "# Mutate one element from each row of a using the indices in b\n",
        "eip[np.arange(4), mlblr] += 10\n",
        "\n",
        "print(eip)  # prints \"array([[11,  2,  3],\n",
        "          #                [ 4,  5, 16],\n",
        "          #                [17,  8,  9],\n",
        "          #                [10, 21, 12]])"
      ],
      "execution_count": 29,
      "outputs": [
        {
          "output_type": "stream",
          "text": [
            "[[ 1  2  3]\n",
            " [ 4  5  6]\n",
            " [ 7  8  9]\n",
            " [10 11 12]]\n",
            "[ 1  6  7 11]\n",
            "[[11  2  3]\n",
            " [ 4  5 16]\n",
            " [17  8  9]\n",
            " [10 21 12]]\n"
          ],
          "name": "stdout"
        }
      ]
    },
    {
      "metadata": {
        "id": "-mXuYIOgAJNz",
        "colab_type": "text"
      },
      "cell_type": "markdown",
      "source": [
        "**Boolean array indexing:**\n",
        "Boolean array indexing lets you pick out arbitrary elements of an array.\n",
        "Frequently this type of indexing is used to select the elements of an array\n",
        "that satisfy some condition. Here is an example:"
      ]
    },
    {
      "metadata": {
        "id": "7jOR9AjCAJNz",
        "colab_type": "code",
        "colab": {
          "base_uri": "https://localhost:8080/",
          "height": 101
        },
        "outputId": "f306ce81-e864-4bc2-beda-a0682f72851e"
      },
      "cell_type": "code",
      "source": [
        "import numpy as np\n",
        "\n",
        "eip = np.array([[1,2], [3, 4], [5, 6]])\n",
        "\n",
        "mlblr = (eip > 2)   # Find the elements of a that are bigger than 2;\n",
        "                     # this returns a numpy array of Booleans of the same\n",
        "                     # shape as a, where each slot of bool_idx tells\n",
        "                     # whether that element of a is > 2.\n",
        "\n",
        "print(mlblr)      # Prints \"[[False False]\n",
        "                     #          [ True  True]\n",
        "                     #          [ True  True]]\"\n",
        "\n",
        "# We use boolean array indexing to construct a rank 1 array\n",
        "# consisting of the elements of a corresponding to the True values\n",
        "# of bool_idx\n",
        "print(eip[mlblr])  # Prints \"[3 4 5 6]\"\n",
        "\n",
        "# We can do all of the above in a single concise statement:\n",
        "print(eip[eip > 2])     # Prints \"[3 4 5 6]\""
      ],
      "execution_count": 30,
      "outputs": [
        {
          "output_type": "stream",
          "text": [
            "[[False False]\n",
            " [ True  True]\n",
            " [ True  True]]\n",
            "[3 4 5 6]\n",
            "[3 4 5 6]\n"
          ],
          "name": "stdout"
        }
      ]
    },
    {
      "metadata": {
        "id": "KLCE1d3lAJN1",
        "colab_type": "text"
      },
      "cell_type": "markdown",
      "source": [
        "For brevity we have left out a lot of details about numpy array indexing;\n",
        "if you want to know more you should\n",
        "[read the documentation](http://docs.scipy.org/doc/numpy/reference/arrays.indexing.html).\n",
        "\n",
        "<a name='numpy-datatypes'></a>\n",
        "\n",
        "### Datatypes\n",
        "Every numpy array is a grid of elements of the same type.\n",
        "Numpy provides a large set of numeric datatypes that you can use to construct arrays.\n",
        "Numpy tries to guess a datatype when you create an array, but functions that construct\n",
        "arrays usually also include an optional argument to explicitly specify the datatype.\n",
        "Here is an example:"
      ]
    },
    {
      "metadata": {
        "id": "OEqSPa0mAJN2",
        "colab_type": "code",
        "colab": {
          "base_uri": "https://localhost:8080/",
          "height": 67
        },
        "outputId": "4850fd2b-5e39-40da-cd96-424b77f983c2"
      },
      "cell_type": "code",
      "source": [
        "import numpy as np\n",
        "\n",
        "eip = np.array([1, 2])   # Let numpy choose the datatype\n",
        "print(eip.dtype)         # Prints \"int64\"\n",
        "\n",
        "eip = np.array([1.0, 2.0])   # Let numpy choose the datatype\n",
        "print(eip.dtype)             # Prints \"float64\"\n",
        "\n",
        "eip = np.array([1, 2], dtype=np.int64)   # Force a particular datatype\n",
        "print(eip.dtype)                         # Prints \"int64\""
      ],
      "execution_count": 31,
      "outputs": [
        {
          "output_type": "stream",
          "text": [
            "int64\n",
            "float64\n",
            "int64\n"
          ],
          "name": "stdout"
        }
      ]
    },
    {
      "metadata": {
        "id": "k3n-26f_AJN3",
        "colab_type": "text"
      },
      "cell_type": "markdown",
      "source": [
        "You can read all about numpy datatypes\n",
        "[in the documentation](http://docs.scipy.org/doc/numpy/reference/arrays.dtypes.html).\n",
        "\n",
        "<a name='numpy-math'></a>\n",
        "\n",
        "### Array math\n",
        "Basic mathematical functions operate elementwise on arrays, and are available\n",
        "both as operator overloads and as functions in the numpy module:"
      ]
    },
    {
      "metadata": {
        "id": "LwkQtbSGAJN4",
        "colab_type": "code",
        "colab": {
          "base_uri": "https://localhost:8080/",
          "height": 319
        },
        "outputId": "96c88e6b-ee05-4880-d5ff-90bc05ad7284"
      },
      "cell_type": "code",
      "source": [
        "import numpy as np\n",
        "\n",
        "eip = np.array([[1,2],[3,4]], dtype=np.float64)\n",
        "mlblr = np.array([[5,6],[7,8]], dtype=np.float64)\n",
        "\n",
        "#eip = np.array([[1,2],[3,4]])\n",
        "#mlblr = np.array([[5,6],[7,8]])\n",
        "\n",
        "# Elementwise sum; both produce the array\n",
        "# [[ 6.0  8.0]\n",
        "#  [10.0 12.0]]\n",
        "print(eip + mlblr)\n",
        "print(np.add(eip, mlblr))\n",
        "\n",
        "# Elementwise difference; both produce the array\n",
        "# [[-4.0 -4.0]\n",
        "#  [-4.0 -4.0]]\n",
        "print(eip - mlblr)\n",
        "print(np.subtract(eip, mlblr))\n",
        "\n",
        "# Elementwise product; both produce the array\n",
        "# [[ 5.0 12.0]\n",
        "#  [21.0 32.0]]\n",
        "print(eip * mlblr)\n",
        "print(np.multiply(eip, mlblr))\n",
        "\n",
        "# Elementwise division; both produce the array\n",
        "# [[ 0.2         0.33333333]\n",
        "#  [ 0.42857143  0.5       ]]\n",
        "print(eip / mlblr)\n",
        "print(np.divide(eip, mlblr))\n",
        "\n",
        "# Elementwise square root; produces the array\n",
        "# [[ 1.          1.41421356]\n",
        "#  [ 1.73205081  2.        ]]\n",
        "print(np.sqrt(eip))"
      ],
      "execution_count": 32,
      "outputs": [
        {
          "output_type": "stream",
          "text": [
            "[[ 6.  8.]\n",
            " [10. 12.]]\n",
            "[[ 6.  8.]\n",
            " [10. 12.]]\n",
            "[[-4. -4.]\n",
            " [-4. -4.]]\n",
            "[[-4. -4.]\n",
            " [-4. -4.]]\n",
            "[[ 5. 12.]\n",
            " [21. 32.]]\n",
            "[[ 5. 12.]\n",
            " [21. 32.]]\n",
            "[[0.2        0.33333333]\n",
            " [0.42857143 0.5       ]]\n",
            "[[0.2        0.33333333]\n",
            " [0.42857143 0.5       ]]\n",
            "[[1.         1.41421356]\n",
            " [1.73205081 2.        ]]\n"
          ],
          "name": "stdout"
        }
      ]
    },
    {
      "metadata": {
        "id": "E7u6kmb5AJN6",
        "colab_type": "text"
      },
      "cell_type": "markdown",
      "source": [
        "Note that unlike MATLAB, `*` is elementwise multiplication, not matrix\n",
        "multiplication. We instead use the `dot` function to compute inner\n",
        "products of vectors, to multiply a vector by a matrix, and to\n",
        "multiply matrices. `dot` is available both as a function in the numpy\n",
        "module and as an instance method of array objects:"
      ]
    },
    {
      "metadata": {
        "id": "hnmMcNQ_AJN7",
        "colab_type": "code",
        "colab": {
          "base_uri": "https://localhost:8080/",
          "height": 151
        },
        "outputId": "b0992e3a-dda3-4851-f6db-4c9d490f2d42"
      },
      "cell_type": "code",
      "source": [
        "import numpy as np\n",
        "\n",
        "eip = np.array([[1,2],[3,4]])\n",
        "mlblr = np.array([[5,6],[7,8]])\n",
        "\n",
        "eip_in = np.array([9,10])\n",
        "mlblr_in= np.array([11, 12])\n",
        "\n",
        "# Inner product of vectors; both produce 219\n",
        "print(eip_in.dot(mlblr_in))\n",
        "print(np.dot(eip_in, mlblr_in))\n",
        "\n",
        "# Matrix / vector product; both produce the rank 1 array [29 67]\n",
        "print(eip.dot(eip_in))\n",
        "print(np.dot(eip, eip_in))\n",
        "\n",
        "# Matrix / matrix product; both produce the rank 2 array\n",
        "# [[19 22]\n",
        "#  [43 50]]\n",
        "print(eip.dot(mlblr))\n",
        "print(np.dot(eip, mlblr))"
      ],
      "execution_count": 33,
      "outputs": [
        {
          "output_type": "stream",
          "text": [
            "219\n",
            "219\n",
            "[29 67]\n",
            "[29 67]\n",
            "[[19 22]\n",
            " [43 50]]\n",
            "[[19 22]\n",
            " [43 50]]\n"
          ],
          "name": "stdout"
        }
      ]
    },
    {
      "metadata": {
        "id": "lDh2KMJdAJOE",
        "colab_type": "text"
      },
      "cell_type": "markdown",
      "source": [
        "Numpy provides many useful functions for performing computations on\n",
        "arrays; one of the most useful is `sum`:"
      ]
    },
    {
      "metadata": {
        "id": "kKtenyYhAJOE",
        "colab_type": "code",
        "colab": {
          "base_uri": "https://localhost:8080/",
          "height": 67
        },
        "outputId": "2ffc5971-c706-4bc7-ad27-a9d7dc0ad52e"
      },
      "cell_type": "code",
      "source": [
        "import numpy as np\n",
        "\n",
        "eip = np.array([[1,2],[3,4]])\n",
        "\n",
        "print(np.sum(eip))  # Compute sum of all elements; prints \"10\"\n",
        "print(np.sum(eip, axis=0))  # Compute sum of each column; prints \"[4 6]\"\n",
        "print(np.sum(eip, axis=1))  # Compute sum of each row; prints \"[3 7]\""
      ],
      "execution_count": 34,
      "outputs": [
        {
          "output_type": "stream",
          "text": [
            "10\n",
            "[4 6]\n",
            "[3 7]\n"
          ],
          "name": "stdout"
        }
      ]
    },
    {
      "metadata": {
        "id": "QGLn5aZ1AJOF",
        "colab_type": "text"
      },
      "cell_type": "markdown",
      "source": [
        "You can find the full list of mathematical functions provided by numpy\n",
        "[in the documentation](http://docs.scipy.org/doc/numpy/reference/routines.math.html).\n",
        "\n",
        "Apart from computing mathematical functions using arrays, we frequently\n",
        "need to reshape or otherwise manipulate data in arrays. The simplest example\n",
        "of this type of operation is transposing a matrix; to transpose a matrix,\n",
        "simply use the `T` attribute of an array object:"
      ]
    },
    {
      "metadata": {
        "id": "7O9jST22AJOG",
        "colab_type": "code",
        "colab": {
          "base_uri": "https://localhost:8080/",
          "height": 118
        },
        "outputId": "4b9e4356-666a-427b-a61f-acdf8bfcbd59"
      },
      "cell_type": "code",
      "source": [
        "import numpy as np\n",
        "\n",
        "eip = np.array([[1,2], [3,4]])\n",
        "print(eip)    # Prints \"[[1 2]\n",
        "            #          [3 4]]\"\n",
        "print(eip.T)  # Prints \"[[1 3]\n",
        "            #          [2 4]]\"\n",
        "\n",
        "# Note that taking the transpose of a rank 1 array does nothing:\n",
        "mlblr = np.array([1,2,3])\n",
        "print(mlblr)    # Prints \"[1 2 3]\"\n",
        "print(mlblr.T)  # Prints \"[1 2 3]\""
      ],
      "execution_count": 35,
      "outputs": [
        {
          "output_type": "stream",
          "text": [
            "[[1 2]\n",
            " [3 4]]\n",
            "[[1 3]\n",
            " [2 4]]\n",
            "[1 2 3]\n",
            "[1 2 3]\n"
          ],
          "name": "stdout"
        }
      ]
    },
    {
      "metadata": {
        "id": "bmb9qGreAJOK",
        "colab_type": "text"
      },
      "cell_type": "markdown",
      "source": [
        "Numpy provides many more functions for manipulating arrays; you can see the full list\n",
        "[in the documentation](http://docs.scipy.org/doc/numpy/reference/routines.array-manipulation.html).\n",
        "\n",
        "\n",
        "<a name='numpy-broadcasting'></a>\n",
        "\n",
        "### Broadcasting\n",
        "Broadcasting is a powerful mechanism that allows numpy to work with arrays of different\n",
        "shapes when performing arithmetic operations. Frequently we have a smaller array and a\n",
        "larger array, and we want to use the smaller array multiple times to perform some operation\n",
        "on the larger array.\n",
        "\n",
        "For example, suppose that we want to add a constant vector to each\n",
        "row of a matrix. We could do it like this:"
      ]
    },
    {
      "metadata": {
        "id": "SBgALgp0AJOL",
        "colab_type": "code",
        "colab": {
          "base_uri": "https://localhost:8080/",
          "height": 84
        },
        "outputId": "a0dc2de4-dfe1-4426-9e8f-5c9cbd8bd00d"
      },
      "cell_type": "code",
      "source": [
        "import numpy as np\n",
        "\n",
        "# We will add the vector v to each row of the matrix x,\n",
        "# storing the result in the matrix y\n",
        "eip = np.array([[1,2,3], [4,5,6], [7,8,9], [10, 11, 12]])\n",
        "eip_in = np.array([1, 0, 1])\n",
        "mlblr = np.empty_like(eip)   # Create an empty matrix with the same shape as x\n",
        "\n",
        "# Add the vector v to each row of the matrix x with an explicit loop\n",
        "for mlblr_in in range(4):\n",
        "    mlblr[mlblr_in, :] = eip[mlblr_in, :] + eip_in\n",
        "\n",
        "# Now y is the following\n",
        "# [[ 2  2  4]\n",
        "#  [ 5  5  7]\n",
        "#  [ 8  8 10]\n",
        "#  [11 11 13]]\n",
        "print(mlblr)"
      ],
      "execution_count": 36,
      "outputs": [
        {
          "output_type": "stream",
          "text": [
            "[[ 2  2  4]\n",
            " [ 5  5  7]\n",
            " [ 8  8 10]\n",
            " [11 11 13]]\n"
          ],
          "name": "stdout"
        }
      ]
    },
    {
      "metadata": {
        "id": "FEFaVdPJAJON",
        "colab_type": "text"
      },
      "cell_type": "markdown",
      "source": [
        "This works; however when the matrix `x` is very large, computing an explicit loop\n",
        "in Python could be slow. Note that adding the vector `v` to each row of the matrix\n",
        "`x` is equivalent to forming a matrix `vv` by stacking multiple copies of `v` vertically,\n",
        "then performing elementwise summation of `x` and `vv`. We could implement this\n",
        "approach like this:"
      ]
    },
    {
      "metadata": {
        "id": "qdy59MEsAJON",
        "colab_type": "code",
        "colab": {
          "base_uri": "https://localhost:8080/",
          "height": 151
        },
        "outputId": "cdbeed18-a342-41a7-f94a-779a88620189"
      },
      "cell_type": "code",
      "source": [
        "import numpy as np\n",
        "\n",
        "# We will add the vector v to each row of the matrix x,\n",
        "# storing the result in the matrix y\n",
        "eip = np.array([[1,2,3], [4,5,6], [7,8,9], [10, 11, 12]])\n",
        "mlblr = np.array([1, 0, 1])\n",
        "mlblr_in = np.tile(mlblr, (4, 1))   # Stack 4 copies of v on top of each other\n",
        "print(mlblr_in)                 # Prints \"[[1 0 1]\n",
        "                          #          [1 0 1]\n",
        "                          #          [1 0 1]\n",
        "                          #          [1 0 1]]\"\n",
        "mlblr_out = eip + mlblr_in  # Add x and vv elementwise\n",
        "print(mlblr_out)  # Prints \"[[ 2  2  4\n",
        "          #          [ 5  5  7]\n",
        "          #          [ 8  8 10]\n",
        "          #          [11 11 13]]\""
      ],
      "execution_count": 37,
      "outputs": [
        {
          "output_type": "stream",
          "text": [
            "[[1 0 1]\n",
            " [1 0 1]\n",
            " [1 0 1]\n",
            " [1 0 1]]\n",
            "[[ 2  2  4]\n",
            " [ 5  5  7]\n",
            " [ 8  8 10]\n",
            " [11 11 13]]\n"
          ],
          "name": "stdout"
        }
      ]
    },
    {
      "metadata": {
        "id": "aRojijIDAJOR",
        "colab_type": "text"
      },
      "cell_type": "markdown",
      "source": [
        "Numpy broadcasting allows us to perform this computation without actually\n",
        "creating multiple copies of `v`. Consider this version, using broadcasting:"
      ]
    },
    {
      "metadata": {
        "id": "LsdzGYnWAJOS",
        "colab_type": "code",
        "colab": {
          "base_uri": "https://localhost:8080/",
          "height": 84
        },
        "outputId": "27f63dbf-def2-4211-c7c7-6a0f4d4ceff1"
      },
      "cell_type": "code",
      "source": [
        "import numpy as np\n",
        "\n",
        "# We will add the vector v to each row of the matrix x,\n",
        "# storing the result in the matrix y\n",
        "eip = np.array([[1,2,3], [4,5,6], [7,8,9], [10, 11, 12]])\n",
        "mlblr = np.array([1, 0, 1])\n",
        "eip_out = eip + mlblr  # Add v to each row of x using broadcasting\n",
        "print(eip_out)  # Prints \"[[ 2  2  4]\n",
        "          #          [ 5  5  7]\n",
        "          #          [ 8  8 10]\n",
        "          #          [11 11 13]]\""
      ],
      "execution_count": 38,
      "outputs": [
        {
          "output_type": "stream",
          "text": [
            "[[ 2  2  4]\n",
            " [ 5  5  7]\n",
            " [ 8  8 10]\n",
            " [11 11 13]]\n"
          ],
          "name": "stdout"
        }
      ]
    },
    {
      "metadata": {
        "id": "QoPUd079AJOV",
        "colab_type": "text"
      },
      "cell_type": "markdown",
      "source": [
        "The line `y = x + v` works even though `x` has shape `(4, 3)` and `v` has shape\n",
        "`(3,)` due to broadcasting; this line works as if `v` actually had shape `(4, 3)`,\n",
        "where each row was a copy of `v`, and the sum was performed elementwise.\n",
        "\n",
        "Broadcasting two arrays together follows these rules:\n",
        "\n",
        "1. If the arrays do not have the same rank, prepend the shape of the lower rank array\n",
        "   with 1s until both shapes have the same length.\n",
        "2. The two arrays are said to be *compatible* in a dimension if they have the same\n",
        "   size in the dimension, or if one of the arrays has size 1 in that dimension.\n",
        "3. The arrays can be broadcast together if they are compatible in all dimensions.\n",
        "4. After broadcasting, each array behaves as if it had shape equal to the elementwise\n",
        "   maximum of shapes of the two input arrays.\n",
        "5. In any dimension where one array had size 1 and the other array had size greater than 1,\n",
        "   the first array behaves as if it were copied along that dimension\n",
        "\n",
        "If this explanation does not make sense, try reading the explanation\n",
        "[from the documentation](http://docs.scipy.org/doc/numpy/user/basics.broadcasting.html)\n",
        "or [this explanation](http://wiki.scipy.org/EricsBroadcastingDoc).\n",
        "\n",
        "Functions that support broadcasting are known as *universal functions*. You can find\n",
        "the list of all universal functions\n",
        "[in the documentation](http://docs.scipy.org/doc/numpy/reference/ufuncs.html#available-ufuncs).\n",
        "\n",
        "Here are some applications of broadcasting:"
      ]
    },
    {
      "metadata": {
        "id": "EYzEj-abAJOV",
        "colab_type": "code",
        "colab": {
          "base_uri": "https://localhost:8080/",
          "height": 202
        },
        "outputId": "b6583e34-1173-46a5-e7c7-a016bf083793"
      },
      "cell_type": "code",
      "source": [
        "import numpy as np\n",
        "\n",
        "# Compute outer product of vectors\n",
        "eip = np.array([1,2,3])  # v has shape (3,)\n",
        "mlblr = np.array([4,5])    # w has shape (2,)\n",
        "# To compute an outer product, we first reshape v to be a column\n",
        "# vector of shape (3, 1); we can then broadcast it against w to yield\n",
        "# an output of shape (3, 2), which is the outer product of v and w:\n",
        "# [[ 4  5]\n",
        "#  [ 8 10]\n",
        "#  [12 15]]\n",
        "print(np.reshape(eip, (3, 1)) * mlblr)\n",
        "\n",
        "# Add a vector to each row of a matrix\n",
        "eip_in = np.array([[1,2,3], [4,5,6]])\n",
        "# x has shape (2, 3) and v has shape (3,) so they broadcast to (2, 3),\n",
        "# giving the following matrix:\n",
        "# [[2 4 6]\n",
        "#  [5 7 9]]\n",
        "print(eip_in + eip)\n",
        "\n",
        "# Add a vector to each column of a matrix\n",
        "# x has shape (2, 3) and w has shape (2,).\n",
        "# If we transpose x then it has shape (3, 2) and can be broadcast\n",
        "# against w to yield a result of shape (3, 2); transposing this result\n",
        "# yields the final result of shape (2, 3) which is the matrix x with\n",
        "# the vector w added to each column. Gives the following matrix:\n",
        "# [[ 5  6  7]\n",
        "#  [ 9 10 11]]\n",
        "print((eip_in.T + mlblr).T)\n",
        "# Another solution is to reshape w to be a column vector of shape (2, 1);\n",
        "# we can then broadcast it directly against x to produce the same\n",
        "# output.\n",
        "print(eip_in + np.reshape(mlblr, (2, 1)))\n",
        "\n",
        "# Multiply a matrix by a constant:\n",
        "# x has shape (2, 3). Numpy treats scalars as arrays of shape ();\n",
        "# these can be broadcast together to shape (2, 3), producing the\n",
        "# following array:\n",
        "# [[ 2  4  6]\n",
        "#  [ 8 10 12]]\n",
        "print(eip_in * 2)"
      ],
      "execution_count": 39,
      "outputs": [
        {
          "output_type": "stream",
          "text": [
            "[[ 4  5]\n",
            " [ 8 10]\n",
            " [12 15]]\n",
            "[[2 4 6]\n",
            " [5 7 9]]\n",
            "[[ 5  6  7]\n",
            " [ 9 10 11]]\n",
            "[[ 5  6  7]\n",
            " [ 9 10 11]]\n",
            "[[ 2  4  6]\n",
            " [ 8 10 12]]\n"
          ],
          "name": "stdout"
        }
      ]
    },
    {
      "metadata": {
        "id": "ZjQTMTuVAJOW",
        "colab_type": "text"
      },
      "cell_type": "markdown",
      "source": [
        "Broadcasting typically makes your code more concise and faster, so you\n",
        "should strive to use it where possible.\n",
        "\n",
        "### Numpy Documentation\n",
        "This brief overview has touched on many of the important things that you need to\n",
        "know about numpy, but is far from complete. Check out the\n",
        "[numpy reference](http://docs.scipy.org/doc/numpy/reference/)\n",
        "to find out much more about numpy.\n",
        "\n",
        "<a name='scipy'></a>\n",
        "\n",
        "## SciPy\n",
        "Numpy provides a high-performance multidimensional array and basic tools to\n",
        "compute with and manipulate these arrays.\n",
        "[SciPy](http://docs.scipy.org/doc/scipy/reference/)\n",
        "builds on this, and provides\n",
        "a large number of functions that operate on numpy arrays and are useful for\n",
        "different types of scientific and engineering applications.\n",
        "\n",
        "The best way to get familiar with SciPy is to\n",
        "[browse the documentation](http://docs.scipy.org/doc/scipy/reference/index.html).\n",
        "We will highlight some parts of SciPy that you might find useful for this class.\n",
        "\n",
        "<a name='scipy-image'></a>\n",
        "\n",
        "### Image operations\n",
        "SciPy provides some basic functions to work with images.\n",
        "For example, it has functions to read images from disk into numpy arrays,\n",
        "to write numpy arrays to disk as images, and to resize images.\n",
        "Here is a simple example that showcases these functions:"
      ]
    },
    {
      "metadata": {
        "id": "R1JinoplQSWi",
        "colab_type": "code",
        "colab": {
          "resources": {
            "http://localhost:8080/nbextensions/google.colab/files.js": {
              "data": "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",
              "ok": true,
              "headers": [
                [
                  "content-type",
                  "application/javascript"
                ]
              ],
              "status": 200,
              "status_text": ""
            }
          },
          "base_uri": "https://localhost:8080/",
          "height": 90
        },
        "outputId": "5db02e84-41b9-4111-e592-388b722edd50"
      },
      "cell_type": "code",
      "source": [
        "from google.colab import files\n",
        "\n",
        "uploaded = files.upload()\n",
        "\n",
        "for fn in uploaded.keys():\n",
        "  print('User uploaded file \"{name}\" with length {length} bytes'.format(\n",
        "      name=fn, length=len(uploaded[fn])))"
      ],
      "execution_count": 40,
      "outputs": [
        {
          "output_type": "display_data",
          "data": {
            "text/html": [
              "\n",
              "     <input type=\"file\" id=\"files-05aeef3d-8cf4-468d-bee2-eab94941fffc\" name=\"files[]\" multiple disabled />\n",
              "     <output id=\"result-05aeef3d-8cf4-468d-bee2-eab94941fffc\">\n",
              "      Upload widget is only available when the cell has been executed in the\n",
              "      current browser session. Please rerun this cell to enable.\n",
              "      </output>\n",
              "      <script src=\"/nbextensions/google.colab/files.js\"></script> "
            ],
            "text/plain": [
              "<IPython.core.display.HTML object>"
            ]
          },
          "metadata": {
            "tags": []
          }
        },
        {
          "output_type": "stream",
          "text": [
            "Saving Cat.jpg to Cat (2).jpg\n",
            "User uploaded file \"Cat.jpg\" with length 100954 bytes\n"
          ],
          "name": "stdout"
        }
      ]
    },
    {
      "metadata": {
        "id": "pJsi1LfbP-82",
        "colab_type": "code",
        "colab": {
          "base_uri": "https://localhost:8080/",
          "height": 121
        },
        "outputId": "0b438d54-dfab-4c58-fd53-20702e6ccdf4"
      },
      "cell_type": "code",
      "source": [
        "#@title Default title text\n",
        "from scipy.misc import imread, imsave, imresize\n",
        "\n",
        "# Read an JPEG image into a numpy array\n",
        "eip = imread('Cat.jpg')\n",
        "#eip = imread('https://vignette.wikia.nocookie.net/disney/images/8/89/Cute-Cat.jpg/revision/latest?cb=20130828113117')\n",
        "print(eip.dtype, eip.shape)  # Prints \"uint8 (400, 248, 3)\"\n",
        "\n",
        "# We can tint the image by scaling each of the color channels\n",
        "# by a different scalar constant. The image has shape (400, 248, 3);\n",
        "# we multiply it by the array [1, 0.95, 0.9] of shape (3,);\n",
        "# numpy broadcasting means that this leaves the red channel unchanged,\n",
        "# and multiplies the green and blue channels by 0.95 and 0.9\n",
        "# respectively.\n",
        "eip_out = eip * [1, 0.95, 0.9]\n",
        "\n",
        "# Resize the tinted image to be 300 by 300 pixels.\n",
        "eip_out = imresize(eip_out, (300, 300))\n",
        "\n",
        "# Write the tinted image back to disk\n",
        "imsave('Cat_tinted.jpg', eip_out)"
      ],
      "execution_count": 41,
      "outputs": [
        {
          "output_type": "stream",
          "text": [
            "uint8 (480, 640, 3)\n"
          ],
          "name": "stdout"
        },
        {
          "output_type": "stream",
          "text": [
            "/usr/local/lib/python3.6/dist-packages/scipy/misc/pilutil.py:482: FutureWarning: Conversion of the second argument of issubdtype from `int` to `np.signedinteger` is deprecated. In future, it will be treated as `np.int64 == np.dtype(int).type`.\n",
            "  if issubdtype(ts, int):\n",
            "/usr/local/lib/python3.6/dist-packages/scipy/misc/pilutil.py:485: FutureWarning: Conversion of the second argument of issubdtype from `float` to `np.floating` is deprecated. In future, it will be treated as `np.float64 == np.dtype(float).type`.\n",
            "  elif issubdtype(type(size), float):\n"
          ],
          "name": "stderr"
        }
      ]
    },
    {
      "metadata": {
        "id": "bFn_r-uPAJOa",
        "colab_type": "text"
      },
      "cell_type": "markdown",
      "source": [
        "<div class='fig figcenter fighighlight'>\n",
        "  <img src='assets/cat.jpg'>\n",
        "  <img src='assets/cat_tinted.jpg'>\n",
        "  <div class='figcaption'>\n",
        "    Left: The original image.\n",
        "    Right: The tinted and resized image.\n",
        "  </div>\n",
        "</div>\n",
        "\n",
        "<a name='scipy-matlab'></a>\n",
        "\n",
        "### MATLAB files\n",
        "The functions `scipy.io.loadmat` and `scipy.io.savemat` allow you to read and\n",
        "write MATLAB files. You can read about them\n",
        "[in the documentation](http://docs.scipy.org/doc/scipy/reference/io.html).\n",
        "\n",
        "<a name='scipy-dist'></a>\n",
        "\n",
        "### Distance between points\n",
        "SciPy defines some useful functions for computing distances between sets of points.\n",
        "\n",
        "The function `scipy.spatial.distance.pdist` computes the distance between all pairs\n",
        "of points in a given set:"
      ]
    },
    {
      "metadata": {
        "id": "5kNvPOBEAJOb",
        "colab_type": "code",
        "colab": {
          "base_uri": "https://localhost:8080/",
          "height": 118
        },
        "outputId": "2b470128-4424-46be-da25-75b85a98d23d"
      },
      "cell_type": "code",
      "source": [
        "import numpy as np\n",
        "from scipy.spatial.distance import pdist, squareform\n",
        "\n",
        "# Create the following array where each row is a point in 2D space:\n",
        "# [[0 1]\n",
        "#  [1 0]\n",
        "#  [2 0]]\n",
        "eip = np.array([[0, 1], [1, 0], [2, 0]])\n",
        "print(eip)\n",
        "\n",
        "# Compute the Euclidean distance between all rows of x.\n",
        "# d[i, j] is the Euclidean distance between x[i, :] and x[j, :],\n",
        "# and d is the following array:\n",
        "# [[ 0.          1.41421356  2.23606798]\n",
        "#  [ 1.41421356  0.          1.        ]\n",
        "#  [ 2.23606798  1.          0.        ]]\n",
        "mlblr = squareform(pdist(eip, 'euclidean'))\n",
        "print(mlblr)"
      ],
      "execution_count": 42,
      "outputs": [
        {
          "output_type": "stream",
          "text": [
            "[[0 1]\n",
            " [1 0]\n",
            " [2 0]]\n",
            "[[0.         1.41421356 2.23606798]\n",
            " [1.41421356 0.         1.        ]\n",
            " [2.23606798 1.         0.        ]]\n"
          ],
          "name": "stdout"
        }
      ]
    },
    {
      "metadata": {
        "id": "wU1zbcZbAJOd",
        "colab_type": "text"
      },
      "cell_type": "markdown",
      "source": [
        "You can read all the details about this function\n",
        "[in the documentation](http://docs.scipy.org/doc/scipy/reference/generated/scipy.spatial.distance.pdist.html).\n",
        "\n",
        "A similar function (`scipy.spatial.distance.cdist`) computes the distance between all pairs\n",
        "across two sets of points; you can read about it\n",
        "[in the documentation](http://docs.scipy.org/doc/scipy/reference/generated/scipy.spatial.distance.cdist.html).\n",
        "\n",
        "<a name='matplotlib'></a>\n",
        "\n",
        "## Matplotlib\n",
        "[Matplotlib](http://matplotlib.org/) is a plotting library.\n",
        "In this section give a brief introduction to the `matplotlib.pyplot` module,\n",
        "which provides a plotting system similar to that of MATLAB.\n",
        "\n",
        "<a name='matplotlib-plot'></a>\n",
        "\n",
        "### Plotting\n",
        "The most important function in matplotlib is `plot`,\n",
        "which allows you to plot 2D data. Here is a simple example:"
      ]
    },
    {
      "metadata": {
        "id": "ua0U5inCAJOe",
        "colab_type": "code",
        "colab": {
          "base_uri": "https://localhost:8080/",
          "height": 347
        },
        "outputId": "c3f71661-11ae-430e-fc42-808bbedc075a"
      },
      "cell_type": "code",
      "source": [
        "import numpy as np\n",
        "import matplotlib.pyplot as plt\n",
        "\n",
        "# Compute the x and y coordinates for points on a sine curve\n",
        "eip = np.arange(0, 3 * np.pi, 0.1)\n",
        "mlblr = np.sin(eip)\n",
        "\n",
        "# Plot the points using matplotlib\n",
        "plt.plot(eip, mlblr)\n",
        "plt.show()  # You must call plt.show() to make graphics appear."
      ],
      "execution_count": 43,
      "outputs": [
        {
          "output_type": "display_data",
          "data": {
            "image/png": "[encoded data removed]",
            "text/plain": [
              "<matplotlib.figure.Figure at 0x7f2a2fb07940>"
            ]
          },
          "metadata": {
            "tags": []
          }
        }
      ]
    },
    {
      "metadata": {
        "id": "twIRE8zjAJOf",
        "colab_type": "text"
      },
      "cell_type": "markdown",
      "source": [
        "Running this code produces the following plot:\n",
        "\n",
        "<div class='fig figcenter fighighlight'>\n",
        "  <img src='assets/sine.png'>\n",
        "</div>\n",
        "\n",
        "With just a little bit of extra work we can easily plot multiple lines\n",
        "at once, and add a title, legend, and axis labels:"
      ]
    },
    {
      "metadata": {
        "id": "V8swDJYwAJOg",
        "colab_type": "code",
        "colab": {
          "base_uri": "https://localhost:8080/",
          "height": 376
        },
        "outputId": "97d6fdbb-5a3a-4d5e-a023-74b2dfd6c36a"
      },
      "cell_type": "code",
      "source": [
        "import numpy as np\n",
        "import matplotlib.pyplot as plt\n",
        "\n",
        "# Compute the x and y coordinates for points on sine and cosine curves\n",
        "eip = np.arange(0, 3 * np.pi, 0.1)\n",
        "eip_in = np.sin(eip)\n",
        "mlblr_in = np.cos(eip)\n",
        "\n",
        "# Plot the points using matplotlib\n",
        "plt.plot(eip, eip_in)\n",
        "plt.plot(eip, mlblr_in)\n",
        "plt.xlabel('x axis label')\n",
        "plt.ylabel('y axis label')\n",
        "plt.title('Sine and Cosine')\n",
        "plt.legend(['Sine', 'Cosine'])\n",
        "plt.show()"
      ],
      "execution_count": 44,
      "outputs": [
        {
          "output_type": "display_data",
          "data": {
            "image/png": "[encoded data removed]",
            "text/plain": [
              "<matplotlib.figure.Figure at 0x7f2a2fb07860>"
            ]
          },
          "metadata": {
            "tags": []
          }
        }
      ]
    },
    {
      "metadata": {
        "id": "UZhrrg8QAJOg",
        "colab_type": "text"
      },
      "cell_type": "markdown",
      "source": [
        "<div class='fig figcenter fighighlight'>\n",
        "  <img src='assets/sine_cosine.png'>\n",
        "</div>\n",
        "\n",
        "You can read much more about the `plot` function\n",
        "[in the documentation](http://matplotlib.org/api/pyplot_api.html#matplotlib.pyplot.plot).\n",
        "\n",
        "<a name='matplotlib-subplots'></a>\n",
        "\n",
        "### Subplots\n",
        "You can plot different things in the same figure using the `subplot` function.\n",
        "Here is an example:"
      ]
    },
    {
      "metadata": {
        "id": "cTNVwnZ6AJOg",
        "colab_type": "code",
        "colab": {
          "base_uri": "https://localhost:8080/",
          "height": 362
        },
        "outputId": "b1b62dd6-0680-4498-b012-7ed98da2b0e4"
      },
      "cell_type": "code",
      "source": [
        "import numpy as np\n",
        "import matplotlib.pyplot as plt\n",
        "\n",
        "# Compute the x and y coordinates for points on sine and cosine curves\n",
        "eip = np.arange(0, 3 * np.pi, 0.1)\n",
        "eip_in = np.sin(eip)\n",
        "mlblr_in = np.cos(eip)\n",
        "\n",
        "# Set up a subplot grid that has height 2 and width 1,\n",
        "# and set the first such subplot as active.\n",
        "plt.subplot(2, 1, 1)\n",
        "\n",
        "# Make the first plot\n",
        "plt.plot(eip, eip_in)\n",
        "plt.title('Sine')\n",
        "\n",
        "# Set the second subplot as active, and make the second plot.\n",
        "plt.subplot(2, 1, 2)\n",
        "plt.plot(eip, mlblr_in)\n",
        "plt.title('Cosine')\n",
        "\n",
        "# Show the figure.\n",
        "plt.show()"
      ],
      "execution_count": 45,
      "outputs": [
        {
          "output_type": "display_data",
          "data": {
            "image/png": "[encoded data removed]",
            "text/plain": [
              "<matplotlib.figure.Figure at 0x7f2a2d9ef208>"
            ]
          },
          "metadata": {
            "tags": []
          }
        }
      ]
    },
    {
      "metadata": {
        "id": "QhWnsgXdAJOi",
        "colab_type": "text"
      },
      "cell_type": "markdown",
      "source": [
        "<div class='fig figcenter fighighlight'>\n",
        "  <img src='assets/sine_cosine_subplot.png'>\n",
        "</div>\n",
        "\n",
        "You can read much more about the `subplot` function\n",
        "[in the documentation](http://matplotlib.org/api/pyplot_api.html#matplotlib.pyplot.subplot).\n",
        "\n",
        "<a name='matplotlib-images'></a>\n",
        "\n",
        "### Images\n",
        "You can use the `imshow` function to show images. Here is an example:"
      ]
    },
    {
      "metadata": {
        "id": "MatGJgsLAJOj",
        "colab_type": "code",
        "colab": {
          "base_uri": "https://localhost:8080/",
          "height": 204
        },
        "outputId": "c46a1c80-db5c-4b77-ad83-8f3388b73205"
      },
      "cell_type": "code",
      "source": [
        "import numpy as np\n",
        "from scipy.misc import imread, imresize\n",
        "import matplotlib.pyplot as plt\n",
        "\n",
        "img = imread('Cat.jpg')\n",
        "img_tinted = img * [1, 0.95, 0.9]\n",
        "\n",
        "# Show the original image\n",
        "plt.subplot(1, 2, 1)\n",
        "plt.imshow(img)\n",
        "\n",
        "# Show the tinted image\n",
        "plt.subplot(1, 2, 2)\n",
        "\n",
        "# A slight gotcha with imshow is that it might give strange results\n",
        "# if presented with data that is not uint8. To work around this, we\n",
        "# explicitly cast the image to uint8 before displaying it.\n",
        "plt.imshow(np.uint8(img_tinted))\n",
        "plt.show()"
      ],
      "execution_count": 46,
      "outputs": [
        {
          "output_type": "display_data",
          "data": {
            "image/png": "[encoded data removed]",
            "text/plain": [
              "<matplotlib.figure.Figure at 0x7f2a3042b780>"
            ]
          },
          "metadata": {
            "tags": []
          }
        }
      ]
    },
    {
      "metadata": {
        "id": "wYt184eXAJOl",
        "colab_type": "text"
      },
      "cell_type": "markdown",
      "source": [
        "<div class='fig figcenter fighighlight'>\n",
        "  <img src='assets/cat_tinted_imshow.png'>\n",
        "</div>"
      ]
    }
  ]
}