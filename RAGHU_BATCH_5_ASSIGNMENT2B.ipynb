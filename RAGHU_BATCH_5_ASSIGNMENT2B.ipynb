{
 "cells": [
  {
   "cell_type": "heading",
   "metadata": {
    "collapsed": true
   },
   "level": 1,
   "source": [
    "RAGHU_BATCH_4_ASSIGNMENT2B"
   ]
  },
  {
   "cell_type": "heading",
   "metadata": {},
   "level": 2,
   "source": [
    "Assignment 2A git hub link:"
   ]
  },
  {
   "cell_type": "markdown",
   "metadata": {},
   "source": [
    "https://github.com/rraghu214/MLBLR/blob/master/RAGHU_BATCH_4_ASSIGNMENT2A.ipynb"
   ]
  },
  {
   "cell_type": "heading",
   "metadata": {},
   "level": 2,
   "source": [
    "Assignment 2B: Neural Network Computation --> Forward Propogation and Back Propogation"
   ]
  },
  {
   "cell_type": "heading",
   "metadata": {},
   "level": 3,
   "source": [
    "Step 0: Read input and output"
   ]
  },
  {
   "cell_type": "code",
   "execution_count": 1,
   "metadata": {},
   "outputs": [
    {
     "name": "stdout",
     "output_type": "stream",
     "text": [
      "X is \n\n[[1 0 1 0]\n [1 0 1 1]\n [0 1 0 1]]\n\n y is \n\n[[1]\n [1]\n [0]]\n"
     ]
    }
   ],
   "source": [
    "import numpy as np\n",
    "X=np.array([[1,0,1,0],[1,0,1,1],[0,1,0,1]], dtype=int)\n",
    "print(\"X is \\n\")\n",
    "print((X))\n",
    "y=np.array([[1],[1],[0]])\n",
    "print(\"\\n y is \\n\")\n",
    "print(y)"
   ]
  },
  {
   "cell_type": "heading",
   "metadata": {},
   "level": 3,
   "source": [
    "Step 1: Initialize weights and biases with random values"
   ]
  },
  {
   "cell_type": "code",
   "execution_count": 2,
   "metadata": {
    "collapsed": false
   },
   "outputs": [
    {
     "name": "stdout",
     "output_type": "stream",
     "text": [
      "Weight is \n\n[[ 0.4651 -0.0258  0.4467]\n [ 0.9887  0.4021 -0.3974]\n [-0.4321  0.5223  0.0534]\n [-0.5103 -0.7675 -0.582 ]]\n\n Bias is\n\n[[ 0.4327 -0.7248  0.0655]]\n"
     ]
    }
   ],
   "source": [
    "#wh=np.random.random((4,3))\n",
    "wh=np.random.uniform(-1,1,[4,3])\n",
    "np.set_printoptions(precision=4,suppress=True )\n",
    "print(\"Weight is \\n\")\n",
    "print(wh)\n",
    "bh=np.random.uniform(-1,1,[1,3])\n",
    "#bh=np.random.random((1,3))\n",
    "print(\"\\n Bias is\\n\")\n",
    "print(bh)"
   ]
  },
  {
   "cell_type": "code",
   "execution_count": 3,
   "metadata": {},
   "outputs": [
    {
     "name": "stdout",
     "output_type": "stream",
     "text": [
      "[[ 0.4657 -0.2283  0.5657]\n [-0.0446 -0.9959 -0.0163]\n [ 0.9111 -1.0903 -0.9138]]\n"
     ]
    }
   ],
   "source": [
    "from numpy.core.multiarray import ndarray\n",
    "\n",
    "hidden_layer_input: ndarray = X.dot(wh) + bh\n",
    "print(hidden_layer_input)"
   ]
  },
  {
   "cell_type": "code",
   "execution_count": 4,
   "metadata": {},
   "outputs": [
    {
     "name": "stdout",
     "output_type": "stream",
     "text": [
      "[[0.4657 0.     0.5657]\n [0.     0.     0.    ]\n [0.9111 0.     0.    ]]\n"
     ]
    }
   ],
   "source": [
    "def reLu(x):\n",
    "    x[x<=0] = 0\n",
    "    #x[x>0] = 1\n",
    "    return x\n",
    "   #return 1 / (1 + np.exp(-h))\n",
    "\n",
    "hiddenlayer_activations = reLu(hidden_layer_input)\n",
    "print(hiddenlayer_activations)"
   ]
  },
  {
   "cell_type": "code",
   "execution_count": 5,
   "metadata": {},
   "outputs": [
    {
     "name": "stdout",
     "output_type": "stream",
     "text": [
      "Weight at hidden layer\n\n[[ 0.0041]\n [ 0.806 ]\n [-0.8683]]\n\n Bias at hidden layer\n[[0.6722]]\n\n Output_layer_input \n\n[[0.183 ]\n [0.6722]\n [0.6759]]\n\n Output \n\n[[0.183 ]\n [0.6722]\n [0.6759]]\n"
     ]
    }
   ],
   "source": [
    "#wout=np.random.random((3,1))\n",
    "wout=np.random.uniform(-1,1,[3,1])\n",
    "np.set_printoptions(precision=4,suppress=True )\n",
    "print(\"Weight at hidden layer\\n\")\n",
    "print(wout)\n",
    "print(\"\\n Bias at hidden layer\")\n",
    "#bout=np.random.random((1,1))\n",
    "bout=np.random.uniform(-1,1,[1,1])\n",
    "print(bout)\n",
    "\n",
    "output_layer_input = hiddenlayer_activations.dot(wout) + bout\n",
    "print(\"\\n Output_layer_input \\n\")\n",
    "print(output_layer_input)\n",
    "\n",
    "output=reLu(output_layer_input)\n",
    "print(\"\\n Output \\n\")\n",
    "print(output)"
   ]
  },
  {
   "cell_type": "code",
   "execution_count": 6,
   "metadata": {},
   "outputs": [
    {
     "name": "stdout",
     "output_type": "stream",
     "text": [
      "[[ 0.817 ]\n [ 0.3278]\n [-0.6759]]\n"
     ]
    }
   ],
   "source": [
    "E= y - output\n",
    "print(E)"
   ]
  },
  {
   "cell_type": "code",
   "execution_count": 7,
   "metadata": {},
   "outputs": [
    {
     "name": "stdout",
     "output_type": "stream",
     "text": [
      "\n Slope_output_layer \n\n[[0.1495]\n [0.2203]\n [0.219 ]]\n\n Slope_hidden_layer \n\n[[0.2488 0.     0.2457]\n [0.     0.     0.    ]\n [0.081  0.     0.    ]]\n"
     ]
    }
   ],
   "source": [
    "def slope_calc(S):\n",
    "    return S*(1-S)\n",
    "\n",
    "Slope_output_layer=slope_calc(output)\n",
    "print(\"\\n Slope_output_layer \\n\")\n",
    "print(Slope_output_layer)\n",
    "\n",
    "Slope_hidden_layer=slope_calc(hiddenlayer_activations)\n",
    "print(\"\\n Slope_hidden_layer \\n\")\n",
    "print(Slope_hidden_layer)"
   ]
  },
  {
   "cell_type": "code",
   "execution_count": 8,
   "metadata": {},
   "outputs": [
    {
     "name": "stdout",
     "output_type": "stream",
     "text": [
      "[[ 0.0122]\n [ 0.0072]\n [-0.0148]]\n"
     ]
    }
   ],
   "source": [
    "lr = 0.1\n",
    "\n",
    "d_output = E * Slope_output_layer * lr\n",
    "print(d_output)"
   ]
  },
  {
   "cell_type": "code",
   "execution_count": 9,
   "metadata": {},
   "outputs": [
    {
     "name": "stdout",
     "output_type": "stream",
     "text": [
      "[[ 0.      0.0098 -0.0106]\n [ 0.      0.0058 -0.0063]\n [-0.0001 -0.0119  0.0129]]\n"
     ]
    }
   ],
   "source": [
    "Error_at_hidden_layer=d_output * wout.transpose()\n",
    "print(Error_at_hidden_layer)"
   ]
  },
  {
   "cell_type": "code",
   "execution_count": 10,
   "metadata": {},
   "outputs": [
    {
     "name": "stdout",
     "output_type": "stream",
     "text": [
      "[[ 0.      0.     -0.0026]\n [ 0.      0.     -0.    ]\n [-0.     -0.      0.    ]]\n"
     ]
    }
   ],
   "source": [
    "d_hiddenlayer=Error_at_hidden_layer*Slope_hidden_layer\n",
    "print(d_hiddenlayer)"
   ]
  },
  {
   "cell_type": "code",
   "execution_count": 11,
   "metadata": {},
   "outputs": [
    {
     "name": "stdout",
     "output_type": "stream",
     "text": [
      "\n wout is \n\n[[ 0.0033]\n [ 0.806 ]\n [-0.8676]]\n\n wh is \n\n[[ 0.4651 -0.0258  0.4464]\n [ 0.9887  0.4021 -0.3974]\n [-0.4321  0.5223  0.0532]\n [-0.5103 -0.7675 -0.582 ]]\n"
     ]
    }
   ],
   "source": [
    "#temp=hiddenlayer_activations.transpose()\n",
    "#print(temp)\n",
    "wout=wout+(hiddenlayer_activations.transpose().dot(d_output)) * lr\n",
    "print(\"\\n wout is \\n\")\n",
    "print(wout)\n",
    "\n",
    "wh=wh+X.transpose().dot(d_hiddenlayer) * lr\n",
    "print(\"\\n wh is \\n\")\n",
    "print(wh)"
   ]
  },
  {
   "cell_type": "code",
   "execution_count": 12,
   "metadata": {},
   "outputs": [
    {
     "name": "stdout",
     "output_type": "stream",
     "text": [
      "\n bh is \n\n[[ 0.4327 -0.7248  0.0653]]\n\n bout is \n\n[[0.6727]]\n"
     ]
    }
   ],
   "source": [
    "bh = bh + np.sum(d_hiddenlayer, axis=0) * lr\n",
    "print(\"\\n bh is \\n\")\n",
    "print(bh)\n",
    "print(\"\\n bout is \\n\")\n",
    "bout = bout + np.sum(d_output, axis=0) * lr\n",
    "print(bout)\n",
    "\n"
   ]
  },
  {
   "cell_type": "code",
   "execution_count": null,
   "metadata": {},
   "outputs": [],
   "source": [
    "\n"
   ]
  }
 ],
 "metadata": {
  "kernelspec": {
   "display_name": "Python 2",
   "language": "python",
   "name": "python2"
  },
  "language_info": {
   "codemirror_mode": {
    "name": "ipython",
    "version": 2
   },
   "file_extension": ".py",
   "mimetype": "text/x-python",
   "name": "python",
   "nbconvert_exporter": "python",
   "pygments_lexer": "ipython2",
   "version": "2.7.6"
  }
 },
 "nbformat": 4,
 "nbformat_minor": 0
}
